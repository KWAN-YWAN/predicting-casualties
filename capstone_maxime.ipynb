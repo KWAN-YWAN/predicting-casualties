{
 "cells": [
  {
   "cell_type": "markdown",
   "metadata": {},
   "source": [
    "<html>\n",
    "<img src='./Assets/Banner1.png' alt=\"Global Terrorism Banner\" width = 2000>\n",
    "</html>"
   ]
  },
  {
   "cell_type": "markdown",
   "metadata": {},
   "source": [
    "<html>\n",
    "<font face = monaco> Hello </font>\n",
    "</html>"
   ]
  },
  {
   "cell_type": "markdown",
   "metadata": {},
   "source": [
    "The following is an analysis of global terrorist attacks from 1970 until 2015. It features detailed textual analysis, visual exploration, as well as modeling using various machine learning algorithms.\n",
    "\n",
    "For more information, visit the [GTD website](https://www.start.umd.edu/gtd/), the [kaggle webpage](https://www.kaggle.com/START-UMD/gtd), or feel free to reach out to me!<br>\n",
    "<br>\n",
    "\n",
    "**I highly recommend using [nbviewer](#https://nbviewer.jupyter.org/github/raindrophub/global-terrorism-database/blob/master/capstone_maxime.ipynb) with this notebook as some content (i.e. plotly) isn't rendered on github.** \n",
    "\n",
    "This project is still under progress"
   ]
  },
  {
   "cell_type": "markdown",
   "metadata": {},
   "source": [
    "# Table of Contents:\n",
    "\n",
    "I. [Introduction](#I---Introduction)\n",
    "1. [Context](#Context)\n",
    "2. [Aims and Objectives](#Aims-and-Objectives)\n",
    "3. [Data Dictionary](#Data-Dictionary)\n",
    "\n",
    "II. [Pre-Processing](#II---Pre-Processing)\n",
    "1. [Describing the Data](#Describing-the-Data)\n",
    "2. [Cleaning the Data](#Cleaning-the-Data)\n",
    "3. [Categorizing Perpetrators](#Categorizing-Perpetrators)\n",
    "4. [Categorizing Targets](#Categorizing-Targets)\n",
    "5. [Filling Missing Data](#Filling-Missing-Data)\n",
    "\n",
    "III. [Exploratory Data Analysis](#III---Exploratory-Data-Analysis)\n",
    "\n",
    "1. [Visual Exploration](#Visual-Exploration)\n",
    "    - [Casualties by Year](#Casualties-by-Year)\n",
    "    - [Casualties by Region](#Casualties-by-Region)\n",
    "    - [Casualties and Attacks by Country](#Casualties-and-Attacks-by-Country)\n",
    "    - [Top Perpetrators](#Top-Perpatrors)\n",
    "    - [Terror Attacks by Weapon Type](#Terror-Attacks-by-Weapon-Type)\n",
    "    - [Terror Tactics throught the Years](#Terror-Tactics-throughout-the-Years)\n",
    "    <br><br>\n",
    "        \n",
    "2. [Feature Analysis](#Feature-Analysis)\n",
    "    - [Feature Selection](#Feature-Selection)\n",
    "    - [Target Selection](#Target-Selection)\n",
    "    - [Feature Importance](#Feature-Importance)\n",
    "        - [PCA](#Principal-Component-Analysis)\n",
    "        - [Chi2](#Chi2)\n",
    "        - [Scoring Metrics](#Scoring-Metrics)\n",
    "        - [Model Selection](#Model-Selection)\n",
    "        \n",
    "\n",
    "IV. [Predictive Analysis](#IV---Predictive-Analysis)\n",
    "1. [Model Calibration](#Model-Calibration)\n",
    " - [Logistic Regression](#Logistic-Regression)\n",
    " - [SGD Classifier](#SGD-Classifier)\n",
    " - [Linear SVC](#Linear-SVC)\n",
    " - [Random Forest Classifier](#Random-Forest-Classifier)\n",
    " - [Multi-Layer Perceptron](#Multi-Layer-Perceptron)\n",
    "    <br><br>\n",
    "\n",
    "2. [Performance Summary](#Performance-Summary)\n",
    "    - [Recall performance](#Recall-Performance)\n",
    "    - [Feature Coefficients](#Feature-Coefficients)\n",
    "    - [Confusion Matrices](#Confusion-Matrices)\n",
    "    - [ROC Curves](#ROC-Curves)\n",
    "\n",
    "V. [Next Steps: Predicting Thresholds of Casualties](#V---Next-Steps:-Predicting-Thresholds-of-Casualties)\n",
    "1. [Model Evaluation](#Model-Evaluation)\n",
    "2. [Model Tuning](#Model-Tuning)\n",
    "3. [Results Summary](#Results-Summary)\n",
    "\n",
    "VI. [Executive Summary](#VI---Executive-Summary)\n",
    "\n",
    "VII. [Appendix](#VII---Appendix)\n",
    "- [Plot Confusion Matrix](#Plot-Confusion-Matrix)\n",
    "- [Plot Cummulative Variance](#Plot-Confusion-Matrix)\n",
    "- [Plot ROC Curve](#Plot-ROC)\n",
    "    "
   ]
  },
  {
   "cell_type": "markdown",
   "metadata": {},
   "source": [
    "# I - Introduction"
   ]
  },
  {
   "cell_type": "markdown",
   "metadata": {},
   "source": [
    "[Table of Contents](#Table-of-Contents:)"
   ]
  },
  {
   "cell_type": "markdown",
   "metadata": {},
   "source": [
    "## Context\n",
    "[Table of Contents](#Table-of-Contents:)"
   ]
  },
  {
   "cell_type": "markdown",
   "metadata": {},
   "source": [
    "*\"It is two and a half minute to midnight\" reads the Doomsday clock.*"
   ]
  },
  {
   "cell_type": "markdown",
   "metadata": {},
   "source": [
    "The past few decades have been painted with growing geo-political instability across the world and terrorism has been one of the main ways through which this global decay manifested itself.\n",
    "\n",
    "In recent years, increased access to technology has allowed the average individual to get a deeper insight in what terror acts occurring around the world. As such, terrorism attacks have been increasingly mediatized. I thought it would be interesting to explore what is all over the news from another approach, a more methodic one so to say."
   ]
  },
  {
   "cell_type": "markdown",
   "metadata": {},
   "source": [
    "\n",
    "The Global Terrorism  Database (GTD) records terror attacks around the world from 1970 through 2015, it includes systematic data on domestic and international terrorist incidents durint this time period. \n",
    "\n",
    "- Contains information on over 150,000 terrorist attacks\n",
    "\n",
    "- Currently the most comprehensive unclassified data base on terrorist events in the world\n",
    "\n",
    "- Includes information on more than 75,000 bombings, 17,000 assassinations, and 9,000 kidnappings since 1970\n",
    "\n",
    "- Includes information on at least 45 variables for each case, with more recent incidents including information on more than 120 variables\n",
    "\n",
    "- Over 4,000,000 news articles and 25,000 news sources were reviewed to collect incident data from 1998 to 2015 alone\n",
    "\n",
    "---\n",
    "\n",
    "For the purpose of this study,  the data analyzed will be strictly restricted to attacks that satisfy the three criteria per the Codebook guidelines."
   ]
  },
  {
   "cell_type": "markdown",
   "metadata": {},
   "source": [
    "> **CRITERIA 1 : POLITICAL, ECONOMIC, RELIGIOUS, OR SOCIAL GOAL**\n",
    "\n",
    ">The violent act must be aimed at attaining a political, economic, religious, or social goal. This criterion is not satisfied in those cases where the perpetrator(s) acted out of a pure profit motive or from an idiosyncratic personal motive unconnected with broader societal change\n",
    "\n",
    "> **CRITERIA 2 : INTENTION TO COERCE, INTIMIDATE OR PUBLICIZE TO LARGER AUDIENCE(S)**\n",
    "\n",
    "> To satisfy this criterion there must be evidence of an intention to coerce, intimidate, or convey some other message to a larger audience (or audiences) than the immediate victims. Such evidence can include (but is not limited to) the following: pre‐ or post‐attack statements by the perpetrator(s), past behavior by the perpetrators, or the particular nature of the target/victim, weapon, or attack type.\n",
    "\n",
    "> **CRITERIA 3 : OUTSIDE INTERNATIONAL HUMANITARIAN LAW**\n",
    "\n",
    "> The action is outside the context of legitimate warfare activities, insofar as it targets non‐combatants (i.e. the act must be outside the parameters permitted by international humanitarian law as reflected in the Additional Protocol to the Geneva Conventions of 12 August 1949 and elsewhere)."
   ]
  },
  {
   "cell_type": "markdown",
   "metadata": {},
   "source": [
    "## Aims and Objectives\n",
    "[Table of Contents](#Table-of-Contents:)"
   ]
  },
  {
   "cell_type": "markdown",
   "metadata": {},
   "source": [
    "This notebook aims to explore the global terrorism database in two ways:\n",
    "- Visually exploring the extremely rich data on the 150,000 terrorist attacks, trying to answer questions such as:\n",
    "    \n",
    "    - Which countries/region are the most targeted?\n",
    "    \n",
    "    - Where are there the most casualties?\n",
    "    \n",
    "    - How have casualties evolved throughout the years?\n",
    "    \n",
    "    - What are the casualties by weapon type?\n",
    "    \n",
    "    - Are certain nationalities more targeted?\n",
    "    \n",
    "    - Are some countries better at defending themselves against terrorist attacks?\n",
    "    \n",
    "    \n",
    "- Analyze the data using scikit learn's classification library:\n",
    "    \n",
    "    - Can we predict if a terrorist attacks will result in casualties or yield no death and wounded.\n",
    "    \n",
    "    - If so, which model will be the most appropriate, should we use linear models, ensemble, support vector machines or neural networks?\n",
    "    \n",
    "    - How accurate will they be? How do we determine our scoring metrics?\n",
    "    \n",
    "    - Can we delve deeper by predicting thresholds of casualties? Will an attack be devastating or benign?\n",
    "    \n",
    "    - What about predicting the future? Can we get descent results running an ARIMA model?\n",
    "\n"
   ]
  },
  {
   "cell_type": "markdown",
   "metadata": {},
   "source": [
    "Now let's look at this database!"
   ]
  },
  {
   "cell_type": "markdown",
   "metadata": {},
   "source": [
    "## Data Dictionary\n",
    "[Table of Contents](#Table-of-Contents:)\n",
    "\n",
    "Here is a quick look at the data that will be used in this notebook, the complete descriptions can be found in the [codebook.](https://www.start.umd.edu/gtd/downloads/Codebook.pdf)\n",
    "\n",
    "```\n",
    "## Spatio-Temporal Variables:\n",
    "\n",
    "'iyear'            : year of the incident\n",
    "'imonth'           : month of the incident\n",
    "'iday'             : day of the incident\n",
    "\n",
    "'latitude'         : latitude of the incident\n",
    "'longitude'        : longitude of the incident\n",
    "\n",
    "## Continous variables: \n",
    "\n",
    "'nkill'            : number of dead\n",
    "'nwound'           : number of wounded\n",
    "\n",
    "## Binary Variables:\n",
    "\n",
    "'crit1'            : was the attack aimed at attaining a political, economic, religious, or social goal?\n",
    "'crit2'            : was there intent to coerce or intimidate a larger audience than the victims?\n",
    "'crit3'            : was the incident outside legitimate warfare activities (i.e. target non-combattants)?\n",
    "'doubtter'         : aws there doubt as to whether or not the incident is a terrorist attack\n",
    "\n",
    "'extended'         : has the incident lasted for more than 24 hours?\n",
    "'multiple'         : is the incident connected to other attacks?\n",
    "'success'          : did the terrorist attack achieve its goal (i.e. assassination, etc.)?\n",
    "'suicide'          : did the incident involve a suicide attack?\n",
    "'guncertain1'      : was the terrorist group confirmed?\n",
    "'claimed'          : was the incident claimed by a particular group?\n",
    "'property'         : was property damaged during the attack?\n",
    "'ishostkid'        : were victims taken hostages or kidnapped?\n",
    "\n",
    "## Categorical Variables:\n",
    "\n",
    "'country_txt'      : country in which the incident occured\n",
    "'region_txt'       : region in which the incident occured\n",
    "'alternative_txt'  : type of attack if it was not terrorist for certain\n",
    "'attacktype1_txt'  : general method of attack used (i.e. assassination, hijacking, bombing/explosion, etc.)\n",
    "'targtype1_txt'    : general type of target/victim (i.e. business, government, police, military, etc.)\n",
    "'natlty1_txt'      : nationality of the target/victim\n",
    "'weaptype1_txt'    : general type of weapon used in the incident (i.e. biological, chemical, firearms, etc.)\n",
    "\n",
    "## Descriptive Variables: \n",
    "\n",
    "'target1'          : specific person, building, installation, etc. that was targeted\n",
    "'gname'            : terrorist group responsible for the attack\n",
    "'summary'          : summary of the incident, when avaialble\n",
    "\n",
    "```\n",
    "\n"
   ]
  },
  {
   "cell_type": "markdown",
   "metadata": {},
   "source": [
    "---\n",
    "# II - Pre-Processing\n",
    "[Table of Contents](#Table-of-Contents:)"
   ]
  },
  {
   "cell_type": "markdown",
   "metadata": {},
   "source": [
    "We start by importing our packages! \n",
    "\n",
    "In the following we will be using matplotlib, seaborn, and plotly for plotting purposes, and scikit learn's classification library for modeling purposes"
   ]
  },
  {
   "cell_type": "code",
   "execution_count": 12,
   "metadata": {},
   "outputs": [
    {
     "data": {
      "text/html": [
       "<script>requirejs.config({paths: { 'plotly': ['https://cdn.plot.ly/plotly-latest.min']},});if(!window.Plotly) {{require(['plotly'],function(plotly) {window.Plotly=plotly;});}}</script>"
      ],
      "text/vnd.plotly.v1+html": [
       "<script>requirejs.config({paths: { 'plotly': ['https://cdn.plot.ly/plotly-latest.min']},});if(!window.Plotly) {{require(['plotly'],function(plotly) {window.Plotly=plotly;});}}</script>"
      ]
     },
     "metadata": {},
     "output_type": "display_data"
    },
    {
     "name": "stdout",
     "output_type": "stream",
     "text": [
      "Packages Imported Successfully!\n"
     ]
    }
   ],
   "source": [
    "## Importing Packages\n",
    "\n",
    "import numpy as np, pandas as pd\n",
    "import matplotlib.pyplot as plt, seaborn as sns\n",
    "import scipy.stats as stats\n",
    "import os, sys, operator, warnings\n",
    "\n",
    "\n",
    "# Scikit-learn Auxiliary Modules\n",
    "from sklearn.metrics import accuracy_score, auc, classification_report, confusion_matrix\n",
    "from sklearn.metrics import explained_variance_score, f1_score, mean_squared_error, mean_absolute_error\n",
    "from sklearn.metrics import precision_recall_curve, precision_score, r2_score, roc_auc_score, roc_curve\n",
    "from sklearn.model_selection import GridSearchCV, cross_val_score, cross_val_predict\n",
    "from sklearn.model_selection import KFold, learning_curve, StratifiedKFold, train_test_split, validation_curve \n",
    "from sklearn.feature_selection import chi2, f_classif, SelectKBest\n",
    "from sklearn.preprocessing import StandardScaler, PolynomialFeatures \n",
    "from sklearn.decomposition import PCA\n",
    "from sklearn.pipeline import Pipeline \n",
    "\n",
    "\n",
    "# Scikit-learn Classification Models\n",
    "from sklearn.linear_model import LogisticRegression, Perceptron, SGDClassifier\n",
    "from sklearn.ensemble import GradientBoostingClassifier, RandomForestClassifier, BaggingClassifier, AdaBoostClassifier\n",
    "from sklearn.tree import DecisionTreeClassifier, ExtraTreeClassifier\n",
    "from sklearn.neighbors import KNeighborsClassifier\n",
    "from sklearn.svm import LinearSVC\n",
    "from sklearn.neural_network import MLPClassifier\n",
    "from sklearn.naive_bayes import GaussianNB\n",
    "\n",
    "\n",
    "# Natural Language Processing\n",
    "from sklearn.feature_extraction.text import ENGLISH_STOP_WORDS, CountVectorizer, TfidfVectorizer\n",
    "from textblob import TextBlob, Word, WordList \n",
    "\n",
    "\n",
    "\n",
    "# Plotly \n",
    "import plotly.offline as py\n",
    "import plotly.graph_objs as go\n",
    "import plotly.figure_factory as ff\n",
    "py.init_notebook_mode(connected=True)\n",
    "\n",
    "\n",
    "# Other imports\n",
    "import itertools\n",
    "# import pprint\n",
    "import patsy\n",
    "\n",
    "# Setting some styles and options\n",
    "sns.set_style('whitegrid') \n",
    "pd.options.display.max_columns = 40 \n",
    "\n",
    "%config InlineBackend.figure_format = 'retina'\n",
    " \n",
    "%matplotlib inline\n",
    "\n",
    "print 'Packages Imported Successfully!'"
   ]
  },
  {
   "cell_type": "code",
   "execution_count": 6,
   "metadata": {},
   "outputs": [
    {
     "name": "stdout",
     "output_type": "stream",
     "text": [
      "Data Loaded Successfuly!\n"
     ]
    }
   ],
   "source": [
    "data = pd.read_csv('./gtd.csv', low_memory = False, encoding='ISO-8859-1')\n",
    "\n",
    "print 'Data Loaded Successfuly!'"
   ]
  },
  {
   "cell_type": "code",
   "execution_count": 7,
   "metadata": {},
   "outputs": [
    {
     "name": "stdout",
     "output_type": "stream",
     "text": [
      "The dataset documents 156772 terror attacks with 137 different features\n"
     ]
    }
   ],
   "source": [
    "print 'The dataset documents', data.shape[0], 'terror attacks with', data.shape[1], 'different features'\n"
   ]
  },
  {
   "cell_type": "markdown",
   "metadata": {},
   "source": [
    "## Describing the Data\n",
    "[Table of Contents](#Table-of-Contents:)"
   ]
  },
  {
   "cell_type": "code",
   "execution_count": 8,
   "metadata": {
    "collapsed": true
   },
   "outputs": [],
   "source": [
    "data_columns = [\n",
    "    \n",
    "    ## Spatio-Temporal Variables:\n",
    "                'iyear', 'imonth', 'iday', 'latitude', 'longitude',\n",
    "    \n",
    "    ## Binary Variables: \n",
    "                'extended', 'vicinity', 'crit1', 'crit2', 'crit3', 'doubtterr',\n",
    "                'multiple', 'success', 'suicide', 'guncertain1', ## check back guncertain\n",
    "                'claimed', 'property', 'ishostkid',\n",
    "    \n",
    "    ## Continuous Variables:\n",
    "                'nkill', 'nwound',               \n",
    "    \n",
    "    ## Categorical variables (textual): \n",
    "                'country_txt', 'region_txt', 'alternative_txt', 'attacktype1_txt', 'targtype1_txt',\n",
    "                'natlty1_txt', 'weaptype1_txt', \n",
    "    \n",
    "    ## Descriptive Variables: \n",
    "                'target1', 'gname', 'summary',    \n",
    "    \n",
    "                                            ]\n",
    "\n",
    "gtd = data.loc[:, data_columns]\n",
    "\n",
    "# To avoid confusion, we restrict the dataset to only attacks that were of terrorist nature.\n",
    "\n",
    "gtd = gtd[(gtd.crit1 == 1) & (gtd.crit2 == 1) & (gtd.crit3 == 1) & (gtd.doubtterr == 0)]"
   ]
  },
  {
   "cell_type": "markdown",
   "metadata": {},
   "source": [
    "`First, we call pandas' describe method to summarize the data`"
   ]
  },
  {
   "cell_type": "code",
   "execution_count": 9,
   "metadata": {},
   "outputs": [
    {
     "data": {
      "text/html": [
       "<div>\n",
       "<table border=\"1\" class=\"dataframe\">\n",
       "  <thead>\n",
       "    <tr style=\"text-align: right;\">\n",
       "      <th></th>\n",
       "      <th>iyear</th>\n",
       "      <th>imonth</th>\n",
       "      <th>iday</th>\n",
       "      <th>latitude</th>\n",
       "      <th>longitude</th>\n",
       "      <th>extended</th>\n",
       "      <th>vicinity</th>\n",
       "      <th>crit1</th>\n",
       "      <th>crit2</th>\n",
       "      <th>crit3</th>\n",
       "      <th>doubtterr</th>\n",
       "      <th>multiple</th>\n",
       "      <th>success</th>\n",
       "      <th>suicide</th>\n",
       "      <th>guncertain1</th>\n",
       "      <th>claimed</th>\n",
       "      <th>property</th>\n",
       "      <th>ishostkid</th>\n",
       "      <th>nkill</th>\n",
       "      <th>nwound</th>\n",
       "    </tr>\n",
       "  </thead>\n",
       "  <tbody>\n",
       "    <tr>\n",
       "      <th>count</th>\n",
       "      <td>118734.000000</td>\n",
       "      <td>118734.000000</td>\n",
       "      <td>118734.000000</td>\n",
       "      <td>115928.000000</td>\n",
       "      <td>115928.000000</td>\n",
       "      <td>118734.000000</td>\n",
       "      <td>118734.000000</td>\n",
       "      <td>118734.0</td>\n",
       "      <td>118734.0</td>\n",
       "      <td>118734.0</td>\n",
       "      <td>118734.0</td>\n",
       "      <td>118734.000000</td>\n",
       "      <td>118734.000000</td>\n",
       "      <td>118734.000000</td>\n",
       "      <td>118482.000000</td>\n",
       "      <td>76661.000000</td>\n",
       "      <td>118734.000000</td>\n",
       "      <td>118573.000000</td>\n",
       "      <td>112932.000000</td>\n",
       "      <td>109306.000000</td>\n",
       "    </tr>\n",
       "    <tr>\n",
       "      <th>mean</th>\n",
       "      <td>2001.885938</td>\n",
       "      <td>6.480258</td>\n",
       "      <td>15.469731</td>\n",
       "      <td>23.554290</td>\n",
       "      <td>27.206549</td>\n",
       "      <td>0.045219</td>\n",
       "      <td>0.063512</td>\n",
       "      <td>1.0</td>\n",
       "      <td>1.0</td>\n",
       "      <td>1.0</td>\n",
       "      <td>0.0</td>\n",
       "      <td>0.148222</td>\n",
       "      <td>0.895851</td>\n",
       "      <td>0.033706</td>\n",
       "      <td>0.104337</td>\n",
       "      <td>0.000104</td>\n",
       "      <td>-0.538607</td>\n",
       "      <td>0.061439</td>\n",
       "      <td>2.232344</td>\n",
       "      <td>3.493792</td>\n",
       "    </tr>\n",
       "    <tr>\n",
       "      <th>std</th>\n",
       "      <td>12.750592</td>\n",
       "      <td>3.399673</td>\n",
       "      <td>8.809096</td>\n",
       "      <td>18.943959</td>\n",
       "      <td>58.167126</td>\n",
       "      <td>0.207784</td>\n",
       "      <td>0.290676</td>\n",
       "      <td>0.0</td>\n",
       "      <td>0.0</td>\n",
       "      <td>0.0</td>\n",
       "      <td>0.0</td>\n",
       "      <td>0.355321</td>\n",
       "      <td>0.305455</td>\n",
       "      <td>0.180471</td>\n",
       "      <td>0.305698</td>\n",
       "      <td>1.194386</td>\n",
       "      <td>3.155098</td>\n",
       "      <td>0.429445</td>\n",
       "      <td>10.699794</td>\n",
       "      <td>25.590224</td>\n",
       "    </tr>\n",
       "    <tr>\n",
       "      <th>min</th>\n",
       "      <td>1970.000000</td>\n",
       "      <td>0.000000</td>\n",
       "      <td>0.000000</td>\n",
       "      <td>-53.154613</td>\n",
       "      <td>-157.858333</td>\n",
       "      <td>0.000000</td>\n",
       "      <td>-9.000000</td>\n",
       "      <td>1.0</td>\n",
       "      <td>1.0</td>\n",
       "      <td>1.0</td>\n",
       "      <td>0.0</td>\n",
       "      <td>0.000000</td>\n",
       "      <td>0.000000</td>\n",
       "      <td>0.000000</td>\n",
       "      <td>0.000000</td>\n",
       "      <td>-9.000000</td>\n",
       "      <td>-9.000000</td>\n",
       "      <td>-9.000000</td>\n",
       "      <td>0.000000</td>\n",
       "      <td>0.000000</td>\n",
       "    </tr>\n",
       "    <tr>\n",
       "      <th>25%</th>\n",
       "      <td>1990.000000</td>\n",
       "      <td>4.000000</td>\n",
       "      <td>8.000000</td>\n",
       "      <td>11.161659</td>\n",
       "      <td>2.352222</td>\n",
       "      <td>0.000000</td>\n",
       "      <td>0.000000</td>\n",
       "      <td>1.0</td>\n",
       "      <td>1.0</td>\n",
       "      <td>1.0</td>\n",
       "      <td>0.0</td>\n",
       "      <td>0.000000</td>\n",
       "      <td>1.000000</td>\n",
       "      <td>0.000000</td>\n",
       "      <td>0.000000</td>\n",
       "      <td>0.000000</td>\n",
       "      <td>0.000000</td>\n",
       "      <td>0.000000</td>\n",
       "      <td>0.000000</td>\n",
       "      <td>0.000000</td>\n",
       "    </tr>\n",
       "    <tr>\n",
       "      <th>50%</th>\n",
       "      <td>2008.000000</td>\n",
       "      <td>6.000000</td>\n",
       "      <td>15.000000</td>\n",
       "      <td>31.606440</td>\n",
       "      <td>43.627361</td>\n",
       "      <td>0.000000</td>\n",
       "      <td>0.000000</td>\n",
       "      <td>1.0</td>\n",
       "      <td>1.0</td>\n",
       "      <td>1.0</td>\n",
       "      <td>0.0</td>\n",
       "      <td>0.000000</td>\n",
       "      <td>1.000000</td>\n",
       "      <td>0.000000</td>\n",
       "      <td>0.000000</td>\n",
       "      <td>0.000000</td>\n",
       "      <td>1.000000</td>\n",
       "      <td>0.000000</td>\n",
       "      <td>0.000000</td>\n",
       "      <td>0.000000</td>\n",
       "    </tr>\n",
       "    <tr>\n",
       "      <th>75%</th>\n",
       "      <td>2013.000000</td>\n",
       "      <td>9.000000</td>\n",
       "      <td>23.000000</td>\n",
       "      <td>34.735879</td>\n",
       "      <td>69.114905</td>\n",
       "      <td>0.000000</td>\n",
       "      <td>0.000000</td>\n",
       "      <td>1.0</td>\n",
       "      <td>1.0</td>\n",
       "      <td>1.0</td>\n",
       "      <td>0.0</td>\n",
       "      <td>0.000000</td>\n",
       "      <td>1.000000</td>\n",
       "      <td>0.000000</td>\n",
       "      <td>0.000000</td>\n",
       "      <td>0.000000</td>\n",
       "      <td>1.000000</td>\n",
       "      <td>0.000000</td>\n",
       "      <td>2.000000</td>\n",
       "      <td>2.000000</td>\n",
       "    </tr>\n",
       "    <tr>\n",
       "      <th>max</th>\n",
       "      <td>2015.000000</td>\n",
       "      <td>12.000000</td>\n",
       "      <td>31.000000</td>\n",
       "      <td>74.633553</td>\n",
       "      <td>179.366667</td>\n",
       "      <td>1.000000</td>\n",
       "      <td>1.000000</td>\n",
       "      <td>1.0</td>\n",
       "      <td>1.0</td>\n",
       "      <td>1.0</td>\n",
       "      <td>0.0</td>\n",
       "      <td>1.000000</td>\n",
       "      <td>1.000000</td>\n",
       "      <td>1.000000</td>\n",
       "      <td>1.000000</td>\n",
       "      <td>2.000000</td>\n",
       "      <td>1.000000</td>\n",
       "      <td>1.000000</td>\n",
       "      <td>1381.500000</td>\n",
       "      <td>5500.000000</td>\n",
       "    </tr>\n",
       "  </tbody>\n",
       "</table>\n",
       "</div>"
      ],
      "text/plain": [
       "               iyear         imonth           iday       latitude  \\\n",
       "count  118734.000000  118734.000000  118734.000000  115928.000000   \n",
       "mean     2001.885938       6.480258      15.469731      23.554290   \n",
       "std        12.750592       3.399673       8.809096      18.943959   \n",
       "min      1970.000000       0.000000       0.000000     -53.154613   \n",
       "25%      1990.000000       4.000000       8.000000      11.161659   \n",
       "50%      2008.000000       6.000000      15.000000      31.606440   \n",
       "75%      2013.000000       9.000000      23.000000      34.735879   \n",
       "max      2015.000000      12.000000      31.000000      74.633553   \n",
       "\n",
       "           longitude       extended       vicinity     crit1     crit2  \\\n",
       "count  115928.000000  118734.000000  118734.000000  118734.0  118734.0   \n",
       "mean       27.206549       0.045219       0.063512       1.0       1.0   \n",
       "std        58.167126       0.207784       0.290676       0.0       0.0   \n",
       "min      -157.858333       0.000000      -9.000000       1.0       1.0   \n",
       "25%         2.352222       0.000000       0.000000       1.0       1.0   \n",
       "50%        43.627361       0.000000       0.000000       1.0       1.0   \n",
       "75%        69.114905       0.000000       0.000000       1.0       1.0   \n",
       "max       179.366667       1.000000       1.000000       1.0       1.0   \n",
       "\n",
       "          crit3  doubtterr       multiple        success        suicide  \\\n",
       "count  118734.0   118734.0  118734.000000  118734.000000  118734.000000   \n",
       "mean        1.0        0.0       0.148222       0.895851       0.033706   \n",
       "std         0.0        0.0       0.355321       0.305455       0.180471   \n",
       "min         1.0        0.0       0.000000       0.000000       0.000000   \n",
       "25%         1.0        0.0       0.000000       1.000000       0.000000   \n",
       "50%         1.0        0.0       0.000000       1.000000       0.000000   \n",
       "75%         1.0        0.0       0.000000       1.000000       0.000000   \n",
       "max         1.0        0.0       1.000000       1.000000       1.000000   \n",
       "\n",
       "         guncertain1       claimed       property      ishostkid  \\\n",
       "count  118482.000000  76661.000000  118734.000000  118573.000000   \n",
       "mean        0.104337      0.000104      -0.538607       0.061439   \n",
       "std         0.305698      1.194386       3.155098       0.429445   \n",
       "min         0.000000     -9.000000      -9.000000      -9.000000   \n",
       "25%         0.000000      0.000000       0.000000       0.000000   \n",
       "50%         0.000000      0.000000       1.000000       0.000000   \n",
       "75%         0.000000      0.000000       1.000000       0.000000   \n",
       "max         1.000000      2.000000       1.000000       1.000000   \n",
       "\n",
       "               nkill         nwound  \n",
       "count  112932.000000  109306.000000  \n",
       "mean        2.232344       3.493792  \n",
       "std        10.699794      25.590224  \n",
       "min         0.000000       0.000000  \n",
       "25%         0.000000       0.000000  \n",
       "50%         0.000000       0.000000  \n",
       "75%         2.000000       2.000000  \n",
       "max      1381.500000    5500.000000  "
      ]
     },
     "execution_count": 9,
     "metadata": {},
     "output_type": "execute_result"
    }
   ],
   "source": [
    "gtd.describe()"
   ]
  },
  {
   "cell_type": "markdown",
   "metadata": {},
   "source": [
    "`Here is an example of what the data looks like, these rows correspond to the 9/11 attacks`"
   ]
  },
  {
   "cell_type": "code",
   "execution_count": 10,
   "metadata": {},
   "outputs": [
    {
     "name": "stdout",
     "output_type": "stream",
     "text": [
      "9/11 attacks:\n"
     ]
    },
    {
     "data": {
      "text/html": [
       "<div>\n",
       "<table border=\"1\" class=\"dataframe\">\n",
       "  <thead>\n",
       "    <tr style=\"text-align: right;\">\n",
       "      <th></th>\n",
       "      <th>iyear</th>\n",
       "      <th>imonth</th>\n",
       "      <th>iday</th>\n",
       "      <th>latitude</th>\n",
       "      <th>longitude</th>\n",
       "      <th>extended</th>\n",
       "      <th>vicinity</th>\n",
       "      <th>crit1</th>\n",
       "      <th>crit2</th>\n",
       "      <th>crit3</th>\n",
       "      <th>doubtterr</th>\n",
       "      <th>multiple</th>\n",
       "      <th>success</th>\n",
       "      <th>suicide</th>\n",
       "      <th>guncertain1</th>\n",
       "      <th>claimed</th>\n",
       "      <th>property</th>\n",
       "      <th>ishostkid</th>\n",
       "      <th>nkill</th>\n",
       "      <th>nwound</th>\n",
       "      <th>country_txt</th>\n",
       "      <th>region_txt</th>\n",
       "      <th>alternative_txt</th>\n",
       "      <th>attacktype1_txt</th>\n",
       "      <th>targtype1_txt</th>\n",
       "      <th>natlty1_txt</th>\n",
       "      <th>weaptype1_txt</th>\n",
       "      <th>target1</th>\n",
       "      <th>gname</th>\n",
       "      <th>summary</th>\n",
       "    </tr>\n",
       "  </thead>\n",
       "  <tbody>\n",
       "    <tr>\n",
       "      <th>73054</th>\n",
       "      <td>2001</td>\n",
       "      <td>9</td>\n",
       "      <td>11</td>\n",
       "      <td>40.712784</td>\n",
       "      <td>-74.005941</td>\n",
       "      <td>0</td>\n",
       "      <td>0</td>\n",
       "      <td>1</td>\n",
       "      <td>1</td>\n",
       "      <td>1</td>\n",
       "      <td>0.0</td>\n",
       "      <td>1</td>\n",
       "      <td>1</td>\n",
       "      <td>1</td>\n",
       "      <td>0.0</td>\n",
       "      <td>1.0</td>\n",
       "      <td>1</td>\n",
       "      <td>1.0</td>\n",
       "      <td>1381.5</td>\n",
       "      <td>NaN</td>\n",
       "      <td>United States</td>\n",
       "      <td>North America</td>\n",
       "      <td>.</td>\n",
       "      <td>Hijacking</td>\n",
       "      <td>Private Citizens &amp; Property</td>\n",
       "      <td>United States</td>\n",
       "      <td>Vehicle (not to include vehicle-borne explosiv...</td>\n",
       "      <td>Passengers and crew members on American Airlin...</td>\n",
       "      <td>Al-Qaida</td>\n",
       "      <td>09/11/2001: This was one of four related terro...</td>\n",
       "    </tr>\n",
       "    <tr>\n",
       "      <th>73055</th>\n",
       "      <td>2001</td>\n",
       "      <td>9</td>\n",
       "      <td>11</td>\n",
       "      <td>40.712784</td>\n",
       "      <td>-74.005941</td>\n",
       "      <td>0</td>\n",
       "      <td>0</td>\n",
       "      <td>1</td>\n",
       "      <td>1</td>\n",
       "      <td>1</td>\n",
       "      <td>0.0</td>\n",
       "      <td>1</td>\n",
       "      <td>1</td>\n",
       "      <td>1</td>\n",
       "      <td>0.0</td>\n",
       "      <td>1.0</td>\n",
       "      <td>1</td>\n",
       "      <td>1.0</td>\n",
       "      <td>1381.5</td>\n",
       "      <td>NaN</td>\n",
       "      <td>United States</td>\n",
       "      <td>North America</td>\n",
       "      <td>.</td>\n",
       "      <td>Hijacking</td>\n",
       "      <td>Private Citizens &amp; Property</td>\n",
       "      <td>United States</td>\n",
       "      <td>Vehicle (not to include vehicle-borne explosiv...</td>\n",
       "      <td>Passengers and crew members on United Airlines...</td>\n",
       "      <td>Al-Qaida</td>\n",
       "      <td>09/11/2001: This was one of four related terro...</td>\n",
       "    </tr>\n",
       "    <tr>\n",
       "      <th>73056</th>\n",
       "      <td>2001</td>\n",
       "      <td>9</td>\n",
       "      <td>11</td>\n",
       "      <td>38.880777</td>\n",
       "      <td>-77.108273</td>\n",
       "      <td>0</td>\n",
       "      <td>0</td>\n",
       "      <td>1</td>\n",
       "      <td>1</td>\n",
       "      <td>1</td>\n",
       "      <td>0.0</td>\n",
       "      <td>1</td>\n",
       "      <td>1</td>\n",
       "      <td>1</td>\n",
       "      <td>0.0</td>\n",
       "      <td>1.0</td>\n",
       "      <td>1</td>\n",
       "      <td>1.0</td>\n",
       "      <td>189.0</td>\n",
       "      <td>106.0</td>\n",
       "      <td>United States</td>\n",
       "      <td>North America</td>\n",
       "      <td>.</td>\n",
       "      <td>Hijacking</td>\n",
       "      <td>Government (General)</td>\n",
       "      <td>United States</td>\n",
       "      <td>Vehicle (not to include vehicle-borne explosiv...</td>\n",
       "      <td>Passengers and crew members on American Airlin...</td>\n",
       "      <td>Al-Qaida</td>\n",
       "      <td>09/11/2001: This was one of four related terro...</td>\n",
       "    </tr>\n",
       "    <tr>\n",
       "      <th>73057</th>\n",
       "      <td>2001</td>\n",
       "      <td>9</td>\n",
       "      <td>11</td>\n",
       "      <td>40.018464</td>\n",
       "      <td>-78.907197</td>\n",
       "      <td>0</td>\n",
       "      <td>1</td>\n",
       "      <td>1</td>\n",
       "      <td>1</td>\n",
       "      <td>1</td>\n",
       "      <td>0.0</td>\n",
       "      <td>1</td>\n",
       "      <td>1</td>\n",
       "      <td>1</td>\n",
       "      <td>0.0</td>\n",
       "      <td>1.0</td>\n",
       "      <td>1</td>\n",
       "      <td>1.0</td>\n",
       "      <td>44.0</td>\n",
       "      <td>0.0</td>\n",
       "      <td>United States</td>\n",
       "      <td>North America</td>\n",
       "      <td>.</td>\n",
       "      <td>Hijacking</td>\n",
       "      <td>Private Citizens &amp; Property</td>\n",
       "      <td>United States</td>\n",
       "      <td>Vehicle (not to include vehicle-borne explosiv...</td>\n",
       "      <td>Airline passengers and crew members on board A...</td>\n",
       "      <td>Al-Qaida</td>\n",
       "      <td>09/11/2001: This was one of four related terro...</td>\n",
       "    </tr>\n",
       "  </tbody>\n",
       "</table>\n",
       "</div>"
      ],
      "text/plain": [
       "       iyear  imonth  iday   latitude  longitude  extended  vicinity  crit1  \\\n",
       "73054   2001       9    11  40.712784 -74.005941         0         0      1   \n",
       "73055   2001       9    11  40.712784 -74.005941         0         0      1   \n",
       "73056   2001       9    11  38.880777 -77.108273         0         0      1   \n",
       "73057   2001       9    11  40.018464 -78.907197         0         1      1   \n",
       "\n",
       "       crit2  crit3  doubtterr  multiple  success  suicide  guncertain1  \\\n",
       "73054      1      1        0.0         1        1        1          0.0   \n",
       "73055      1      1        0.0         1        1        1          0.0   \n",
       "73056      1      1        0.0         1        1        1          0.0   \n",
       "73057      1      1        0.0         1        1        1          0.0   \n",
       "\n",
       "       claimed  property  ishostkid   nkill  nwound    country_txt  \\\n",
       "73054      1.0         1        1.0  1381.5     NaN  United States   \n",
       "73055      1.0         1        1.0  1381.5     NaN  United States   \n",
       "73056      1.0         1        1.0   189.0   106.0  United States   \n",
       "73057      1.0         1        1.0    44.0     0.0  United States   \n",
       "\n",
       "          region_txt alternative_txt attacktype1_txt  \\\n",
       "73054  North America               .       Hijacking   \n",
       "73055  North America               .       Hijacking   \n",
       "73056  North America               .       Hijacking   \n",
       "73057  North America               .       Hijacking   \n",
       "\n",
       "                     targtype1_txt    natlty1_txt  \\\n",
       "73054  Private Citizens & Property  United States   \n",
       "73055  Private Citizens & Property  United States   \n",
       "73056         Government (General)  United States   \n",
       "73057  Private Citizens & Property  United States   \n",
       "\n",
       "                                           weaptype1_txt  \\\n",
       "73054  Vehicle (not to include vehicle-borne explosiv...   \n",
       "73055  Vehicle (not to include vehicle-borne explosiv...   \n",
       "73056  Vehicle (not to include vehicle-borne explosiv...   \n",
       "73057  Vehicle (not to include vehicle-borne explosiv...   \n",
       "\n",
       "                                                 target1     gname  \\\n",
       "73054  Passengers and crew members on American Airlin...  Al-Qaida   \n",
       "73055  Passengers and crew members on United Airlines...  Al-Qaida   \n",
       "73056  Passengers and crew members on American Airlin...  Al-Qaida   \n",
       "73057  Airline passengers and crew members on board A...  Al-Qaida   \n",
       "\n",
       "                                                 summary  \n",
       "73054  09/11/2001: This was one of four related terro...  \n",
       "73055  09/11/2001: This was one of four related terro...  \n",
       "73056  09/11/2001: This was one of four related terro...  \n",
       "73057  09/11/2001: This was one of four related terro...  "
      ]
     },
     "execution_count": 10,
     "metadata": {},
     "output_type": "execute_result"
    }
   ],
   "source": [
    "print '9/11 attacks:'\n",
    "gtd[(gtd.iyear == 2001) & (gtd.imonth == 9) & (gtd.iday == 11) & (gtd.country_txt == 'United States')]"
   ]
  },
  {
   "cell_type": "markdown",
   "metadata": {},
   "source": [
    "## Cleaning the Data\n",
    "[Table of Contents](#Table-of-Contents:)"
   ]
  },
  {
   "cell_type": "markdown",
   "metadata": {},
   "source": [
    "We start by shortening the name of one of our weapon type categories which is way too long!"
   ]
  },
  {
   "cell_type": "code",
   "execution_count": 13,
   "metadata": {
    "collapsed": true
   },
   "outputs": [],
   "source": [
    "gtd.weaptype1_txt.replace(\n",
    "    'Vehicle (not to include vehicle-borne explosives, i.e., car or truck bombs)',\n",
    "    'Vehicle', inplace = True)"
   ]
  },
  {
   "cell_type": "markdown",
   "metadata": {},
   "source": [
    "Next, we replace the unknown values in columns vicinity, claimed, property, and ishostkid with zeros"
   ]
  },
  {
   "cell_type": "code",
   "execution_count": 14,
   "metadata": {
    "collapsed": true
   },
   "outputs": [],
   "source": [
    "gtd.iloc[:,[6, 15, 16, 17]] = gtd.iloc[:,[6, 15, 16, 17]].replace(-9,0)"
   ]
  },
  {
   "cell_type": "markdown",
   "metadata": {},
   "source": [
    "Fixing a couple of strange values in the claimed category"
   ]
  },
  {
   "cell_type": "code",
   "execution_count": 15,
   "metadata": {
    "collapsed": true
   },
   "outputs": [],
   "source": [
    "gtd.claimed.replace(2,1, inplace = True) # (3)"
   ]
  },
  {
   "cell_type": "markdown",
   "metadata": {
    "collapsed": true
   },
   "source": [
    "We change the textual variables to lowercase for future ease of analysis"
   ]
  },
  {
   "cell_type": "code",
   "execution_count": 16,
   "metadata": {
    "collapsed": true
   },
   "outputs": [],
   "source": [
    "gtd.target1 = gtd.target1.str.lower()\n",
    "gtd.gname = gtd.gname.str.lower()\n",
    "gtd.summary = gtd.summary.str.lower()    \n",
    "gtd.target1 = gtd.target1.fillna('unknown').replace('unk','unknown')"
   ]
  },
  {
   "cell_type": "markdown",
   "metadata": {
    "collapsed": true
   },
   "source": [
    "We replace missing values for the number of dead and wounded using the median, rounding them in the process"
   ]
  },
  {
   "cell_type": "code",
   "execution_count": 17,
   "metadata": {
    "collapsed": true
   },
   "outputs": [],
   "source": [
    "gtd.nkill = np.round(gtd.nkill.fillna(gtd.nkill.median())).astype(int) \n",
    "gtd.nwound = np.round(gtd.nwound.fillna(gtd.nwound.median())).astype(int) "
   ]
  },
  {
   "cell_type": "markdown",
   "metadata": {},
   "source": [
    "We then create two new features: total number of casualties and its binary interpretation"
   ]
  },
  {
   "cell_type": "code",
   "execution_count": 18,
   "metadata": {
    "collapsed": true
   },
   "outputs": [],
   "source": [
    "gtd['casualties'] = gtd.nkill + gtd.nwound\n",
    "gtd['nclass'] = gtd.casualties.apply(lambda x: 0 if x == 0 else 1) "
   ]
  },
  {
   "cell_type": "markdown",
   "metadata": {
    "collapsed": true
   },
   "source": [
    "## Categorizing Perpetrators\n",
    "[Table of Contents](#Table-of-Contents:)"
   ]
  },
  {
   "cell_type": "markdown",
   "metadata": {},
   "source": [
    "`Here, we define a function to categorize perpetrators which assigns terrorist groups with less than 10 attacks to a 'small_time_perpetrator' category.`"
   ]
  },
  {
   "cell_type": "code",
   "execution_count": 19,
   "metadata": {
    "collapsed": true
   },
   "outputs": [],
   "source": [
    "def categorize_perpetrators(column):\n",
    "    '''\n",
    "    This function reorganizes perpetrator groups based on their value_counts, perpetrator groups with\n",
    "    less than 10 occurences are re-assigned to a new category called 'small_time_perpetrator'\n",
    "    Parameter is of the type <pandas.core.series.Series>\n",
    "    '''\n",
    "    perpetrators_count = column.value_counts()\n",
    "    small_time_perpetrator = perpetrators_count[perpetrators_count < 10].index.tolist()\n",
    "    column = column.apply(lambda x: 'small time perpetrator' if x in small_time_perpetrator else x).astype(str)\n",
    "    return column"
   ]
  },
  {
   "cell_type": "markdown",
   "metadata": {},
   "source": [
    "`We then apply the function to the target feature, in this case gtd.gname. We will now consider this column categorical.`"
   ]
  },
  {
   "cell_type": "code",
   "execution_count": 20,
   "metadata": {},
   "outputs": [
    {
     "name": "stdout",
     "output_type": "stream",
     "text": [
      "Perpetrators categorized!\n"
     ]
    }
   ],
   "source": [
    "\n",
    "gtd.gname = categorize_perpetrators(gtd.gname)\n",
    "print 'Perpetrators categorized!'"
   ]
  },
  {
   "cell_type": "markdown",
   "metadata": {},
   "source": [
    "## Categorizing Targets\n",
    "[Table of Contents](#Table-of-Contents:)"
   ]
  },
  {
   "cell_type": "markdown",
   "metadata": {},
   "source": [
    "`Here, we define a function to categorize the textual target variable by performing a few re-assignments`"
   ]
  },
  {
   "cell_type": "code",
   "execution_count": 21,
   "metadata": {
    "collapsed": true
   },
   "outputs": [],
   "source": [
    "def categorize_target1(column):\n",
    "    '''\n",
    "    This function performs three operations:\n",
    "    - It uses TextBlop in order to lemmatize (e.g. transform a word into its cannonical form) the textual data,\n",
    "    for example, converting 'civilians' to 'civilian'. This enables us to increase the value count for recurrent\n",
    "    words.\n",
    "    - The second part of the function defines a list of top_targets, which include targets mentioned more than\n",
    "    50 times. It then loops through every target string and re-assigns sentences that contain top_targets words.\n",
    "    - Finally, it assigns every target not in top_targets to a new 'isolated target' category.\n",
    "    Parameter is of the type <pandas.core.series.Series>\n",
    "    '''\n",
    "    \n",
    "    temp_target = []\n",
    "    for target in column:\n",
    "        blob = TextBlob(target)\n",
    "#         blob.ngrams = 2\n",
    "        blop = blob.words\n",
    "        lemma = [words.lemmatize() for words in blop]\n",
    "        temp_target.append(\" \".join(lemma))\n",
    "    column = pd.Series(temp_target, index = column.index)\n",
    "    target_count = column.value_counts()\n",
    "    top_targets = target_count[target_count > 50].index.tolist()\n",
    "    for item in top_targets: \n",
    "        column = column.apply(lambda x: item if item in x else x)\n",
    "    column = column.apply(lambda x: 'isolated target' if x not in top_targets else x)\n",
    "    return column"
   ]
  },
  {
   "cell_type": "markdown",
   "metadata": {},
   "source": [
    "`We then apply the function to the target variable`"
   ]
  },
  {
   "cell_type": "code",
   "execution_count": 22,
   "metadata": {},
   "outputs": [
    {
     "name": "stdout",
     "output_type": "stream",
     "text": [
      "Targets categorized!\n"
     ]
    }
   ],
   "source": [
    "gtd.target1 = categorize_target1(gtd.target1)\n",
    "print 'Targets categorized!'"
   ]
  },
  {
   "cell_type": "markdown",
   "metadata": {},
   "source": [
    "## Filling Missing Data\n",
    "[Table of Contents](#Table-of-Contents:)"
   ]
  },
  {
   "cell_type": "markdown",
   "metadata": {},
   "source": [
    "Our data is almost ready for modeling, we only have a few changes to make. \n",
    "\n",
    "Let's look at the missing values"
   ]
  },
  {
   "cell_type": "code",
   "execution_count": 28,
   "metadata": {},
   "outputs": [
    {
     "name": "stdout",
     "output_type": "stream",
     "text": [
      "missing data : \n",
      "\n",
      "claimed        42073\n",
      "guncertain1      252\n",
      "ishostkid        161\n",
      "nclass             0\n",
      "dtype: int64\n"
     ]
    }
   ],
   "source": [
    "print 'missing data : \\n'\n",
    "print gtd.drop(['latitude','longitude','summary'], axis = 1).isnull().sum().sort_values(ascending = False).head(4)"
   ]
  },
  {
   "cell_type": "markdown",
   "metadata": {},
   "source": [
    "As we can see, for guncertain1 and ishostkid, the missing data is negligible and we can afford to fill NaNs with zeros.\n",
    "\n",
    "However, given the size of missing data for the claimed variable, we need to find a way to input the data.\n",
    "\n",
    "Given the binary nature of the column, let's use logistic regression"
   ]
  },
  {
   "cell_type": "code",
   "execution_count": 29,
   "metadata": {
    "collapsed": true
   },
   "outputs": [],
   "source": [
    "df = gtd.drop(['longitude','latitude', 'summary'], axis =1)"
   ]
  },
  {
   "cell_type": "code",
   "execution_count": 30,
   "metadata": {},
   "outputs": [
    {
     "data": {
      "text/plain": [
       "(118734, 29)"
      ]
     },
     "execution_count": 30,
     "metadata": {},
     "output_type": "execute_result"
    }
   ],
   "source": [
    "df.shape"
   ]
  },
  {
   "cell_type": "code",
   "execution_count": 31,
   "metadata": {
    "collapsed": true
   },
   "outputs": [],
   "source": [
    "df.guncertain1.fillna(0, inplace = True)\n",
    "df.ishostkid.fillna(0, inplace = True)\n"
   ]
  },
  {
   "cell_type": "markdown",
   "metadata": {},
   "source": [
    "We start by assigning our target variable to claimed"
   ]
  },
  {
   "cell_type": "code",
   "execution_count": 32,
   "metadata": {},
   "outputs": [
    {
     "data": {
      "text/plain": [
       "(118734,)"
      ]
     },
     "execution_count": 32,
     "metadata": {},
     "output_type": "execute_result"
    }
   ],
   "source": [
    "y_temp = df.claimed\n",
    "y_temp.shape"
   ]
  },
  {
   "cell_type": "markdown",
   "metadata": {},
   "source": [
    "Here we select our features for modeling.\n",
    "\n",
    "We split them into categorical and numerical (binary) groups"
   ]
  },
  {
   "cell_type": "code",
   "execution_count": 33,
   "metadata": {
    "collapsed": true
   },
   "outputs": [],
   "source": [
    "categorical = ['country_txt', 'alternative_txt', 'attacktype1_txt',\n",
    "               'targtype1_txt', 'weaptype1_txt', 'gname', 'target1']\n",
    "\n",
    "numerical = ['extended', 'vicinity', 'multiple', 'success',\n",
    "             'suicide', 'guncertain1', 'casualties', 'property', 'ishostkid',]"
   ]
  },
  {
   "cell_type": "markdown",
   "metadata": {},
   "source": [
    "Here we use Patsy, which allows us to create dummy columns for our categorical data per the above."
   ]
  },
  {
   "cell_type": "code",
   "execution_count": 34,
   "metadata": {},
   "outputs": [
    {
     "data": {
      "text/plain": [
       "'extended + vicinity + multiple + success + suicide + guncertain1 + casualties + property + ishostkid + C(country_txt) + C(alternative_txt) + C(attacktype1_txt) + C(targtype1_txt) + C(weaptype1_txt) + C(gname) + C(target1) -1'"
      ]
     },
     "execution_count": 34,
     "metadata": {},
     "output_type": "execute_result"
    }
   ],
   "source": [
    "formula =  ' + '.join(numerical)+ ' + ' + ' + '.join(['C('+i+')' for i in categorical]) + ' -1' \n",
    "formula"
   ]
  },
  {
   "cell_type": "code",
   "execution_count": 35,
   "metadata": {},
   "outputs": [
    {
     "name": "stdout",
     "output_type": "stream",
     "text": [
      "(118734, 786) (118734,)\n"
     ]
    }
   ],
   "source": [
    "X_temp = patsy.dmatrix(formula, data = df, return_type= 'dataframe')\n",
    "print X_temp.shape, y_temp.shape"
   ]
  },
  {
   "cell_type": "markdown",
   "metadata": {},
   "source": [
    "Now that we have our target and features, we define our training and testing sets.\n",
    "\n",
    "For fitting purposes we use every incident where claimed is known for our training set.\n",
    "\n",
    "We then use the predictions from that model to fill missing values in our test set (the one with the NaN values)"
   ]
  },
  {
   "cell_type": "code",
   "execution_count": 36,
   "metadata": {
    "collapsed": true
   },
   "outputs": [],
   "source": [
    "X_train = X_temp[~y_temp.isnull()]\n",
    "X_test = X_temp[y_temp.isnull()]"
   ]
  },
  {
   "cell_type": "code",
   "execution_count": 37,
   "metadata": {
    "collapsed": true
   },
   "outputs": [],
   "source": [
    "y_train = y_temp[~y_temp.isnull()]\n",
    "y_test = y_temp[y_temp.isnull()]"
   ]
  },
  {
   "cell_type": "markdown",
   "metadata": {},
   "source": [
    "Checking the shape"
   ]
  },
  {
   "cell_type": "code",
   "execution_count": 38,
   "metadata": {},
   "outputs": [
    {
     "data": {
      "text/plain": [
       "((76661, 786), (76661,), (42073, 786), (42073,))"
      ]
     },
     "execution_count": 38,
     "metadata": {},
     "output_type": "execute_result"
    }
   ],
   "source": [
    "X_train.shape, y_train.shape, X_test.shape, y_test.shape"
   ]
  },
  {
   "cell_type": "markdown",
   "metadata": {},
   "source": [
    "Fitting our model"
   ]
  },
  {
   "cell_type": "code",
   "execution_count": 39,
   "metadata": {
    "collapsed": true
   },
   "outputs": [],
   "source": [
    "lr = LogisticRegression(random_state = 42).fit(X_train, y_train) "
   ]
  },
  {
   "cell_type": "code",
   "execution_count": 41,
   "metadata": {
    "collapsed": true
   },
   "outputs": [],
   "source": [
    "predictions = pd.Series(lr.predict(X_test), index = X_test.index)"
   ]
  },
  {
   "cell_type": "markdown",
   "metadata": {},
   "source": [
    "Filling missing values, at last!"
   ]
  },
  {
   "cell_type": "code",
   "execution_count": 42,
   "metadata": {
    "collapsed": true
   },
   "outputs": [],
   "source": [
    "df.claimed.fillna(predictions, inplace = True)"
   ]
  },
  {
   "cell_type": "code",
   "execution_count": 40,
   "metadata": {
    "collapsed": true
   },
   "outputs": [],
   "source": [
    "# imputed_values = [ pred + sampling_from_norma_distribution for pred in predicted]"
   ]
  },
  {
   "cell_type": "markdown",
   "metadata": {},
   "source": [
    "---\n",
    "# III - Exploratory Data Analysis\n",
    "[Table of Contents](#Table-of-Contents:)"
   ]
  },
  {
   "cell_type": "code",
   "execution_count": 5,
   "metadata": {},
   "outputs": [
    {
     "name": "stdout",
     "output_type": "stream",
     "text": [
      "Data Loaded Successfuly!\n"
     ]
    }
   ],
   "source": [
    "df = pd.read_csv('./Assets/modeling.csv') \n",
    "print 'Data Loaded Successfuly!'"
   ]
  },
  {
   "cell_type": "markdown",
   "metadata": {
    "collapsed": true
   },
   "source": [
    "## Visual Exploration\n",
    "[Table of Contents](#Table-of-Contents:)"
   ]
  },
  {
   "cell_type": "code",
   "execution_count": 47,
   "metadata": {
    "collapsed": true
   },
   "outputs": [],
   "source": [
    "## Are nationalities more likely to get killed?\n",
    "## Are certain countries better at capturing perpetrators?\n",
    "## Are there countries particularily focused on kidnappings/hostages?\n",
    "\n",
    "## How well do certain countries defend against terrorist attacks?\n",
    "\n"
   ]
  },
  {
   "cell_type": "markdown",
   "metadata": {},
   "source": [
    "### *Casualties by Year*"
   ]
  },
  {
   "cell_type": "code",
   "execution_count": 15,
   "metadata": {},
   "outputs": [
    {
     "data": {
      "application/vnd.plotly.v1+json": {
       "data": [
        {
         "hoverinfo": "x+y+name",
         "line": {
          "color": "salmon",
          "dash": "dot",
          "width": 4
         },
         "name": "Casualties",
         "type": "scatter",
         "x": [
          1970,
          1971,
          1972,
          1973,
          1974,
          1975,
          1976,
          1977,
          1978,
          1979,
          1980,
          1981,
          1982,
          1983,
          1984,
          1985,
          1986,
          1987,
          1988,
          1989,
          1990,
          1991,
          1992,
          1994,
          1995,
          1996,
          1997,
          1998,
          1999,
          2000,
          2001,
          2002,
          2003,
          2004,
          2005,
          2006,
          2007,
          2008,
          2009,
          2010,
          2011,
          2012,
          2013,
          2014,
          2015
         ],
         "y": [
          327,
          183,
          541,
          757,
          1123,
          1016,
          1190,
          844,
          2323,
          3295,
          5339,
          4498,
          5142,
          6039,
          9454,
          7449,
          7881,
          8224,
          9437,
          8805,
          9367,
          9954,
          13145,
          9687,
          16994,
          13717,
          15879,
          10989,
          6286,
          8149,
          12504,
          10632,
          9516,
          15762,
          16517,
          23041,
          32182,
          25977,
          27946,
          22435,
          21254,
          33201,
          51042,
          67525,
          66362
         ]
        }
       ],
       "layout": {
        "title": "Casualties per Year"
       }
      },
      "text/html": [
       "<div id=\"99fd8dc7-fe60-4386-b867-55033448fb51\" style=\"height: 525px; width: 100%;\" class=\"plotly-graph-div\"></div><script type=\"text/javascript\">require([\"plotly\"], function(Plotly) { window.PLOTLYENV=window.PLOTLYENV || {};window.PLOTLYENV.BASE_URL=\"https://plot.ly\";Plotly.newPlot(\"99fd8dc7-fe60-4386-b867-55033448fb51\", [{\"name\": \"Casualties\", \"hoverinfo\": \"x+y+name\", \"y\": [327, 183, 541, 757, 1123, 1016, 1190, 844, 2323, 3295, 5339, 4498, 5142, 6039, 9454, 7449, 7881, 8224, 9437, 8805, 9367, 9954, 13145, 9687, 16994, 13717, 15879, 10989, 6286, 8149, 12504, 10632, 9516, 15762, 16517, 23041, 32182, 25977, 27946, 22435, 21254, 33201, 51042, 67525, 66362], \"x\": [1970, 1971, 1972, 1973, 1974, 1975, 1976, 1977, 1978, 1979, 1980, 1981, 1982, 1983, 1984, 1985, 1986, 1987, 1988, 1989, 1990, 1991, 1992, 1994, 1995, 1996, 1997, 1998, 1999, 2000, 2001, 2002, 2003, 2004, 2005, 2006, 2007, 2008, 2009, 2010, 2011, 2012, 2013, 2014, 2015], \"line\": {\"dash\": \"dot\", \"width\": 4, \"color\": \"salmon\"}, \"type\": \"scatter\"}], {\"title\": \"Casualties per Year\"}, {\"linkText\": \"Export to plot.ly\", \"showLink\": true})});</script>"
      ],
      "text/vnd.plotly.v1+html": [
       "<div id=\"99fd8dc7-fe60-4386-b867-55033448fb51\" style=\"height: 525px; width: 100%;\" class=\"plotly-graph-div\"></div><script type=\"text/javascript\">require([\"plotly\"], function(Plotly) { window.PLOTLYENV=window.PLOTLYENV || {};window.PLOTLYENV.BASE_URL=\"https://plot.ly\";Plotly.newPlot(\"99fd8dc7-fe60-4386-b867-55033448fb51\", [{\"name\": \"Casualties\", \"hoverinfo\": \"x+y+name\", \"y\": [327, 183, 541, 757, 1123, 1016, 1190, 844, 2323, 3295, 5339, 4498, 5142, 6039, 9454, 7449, 7881, 8224, 9437, 8805, 9367, 9954, 13145, 9687, 16994, 13717, 15879, 10989, 6286, 8149, 12504, 10632, 9516, 15762, 16517, 23041, 32182, 25977, 27946, 22435, 21254, 33201, 51042, 67525, 66362], \"x\": [1970, 1971, 1972, 1973, 1974, 1975, 1976, 1977, 1978, 1979, 1980, 1981, 1982, 1983, 1984, 1985, 1986, 1987, 1988, 1989, 1990, 1991, 1992, 1994, 1995, 1996, 1997, 1998, 1999, 2000, 2001, 2002, 2003, 2004, 2005, 2006, 2007, 2008, 2009, 2010, 2011, 2012, 2013, 2014, 2015], \"line\": {\"dash\": \"dot\", \"width\": 4, \"color\": \"salmon\"}, \"type\": \"scatter\"}], {\"title\": \"Casualties per Year\"}, {\"linkText\": \"Export to plot.ly\", \"showLink\": true})});</script>"
      ]
     },
     "metadata": {},
     "output_type": "display_data"
    }
   ],
   "source": [
    "cpy = df.groupby('iyear', as_index=False)['casualties'].sum()\n",
    "\n",
    "trace = go.Scatter(x = cpy.iyear, y = cpy.casualties,\n",
    "                   name = 'Casualties', line = dict(color = 'salmon', width = 4, dash ='dot'),\n",
    "                   hoverinfo = 'x+y+name')\n",
    "\n",
    "layout = go.Layout(title = 'Casualties per Year')\n",
    "\n",
    "py.iplot(dict(data = [trace], layout = layout))     "
   ]
  },
  {
   "cell_type": "markdown",
   "metadata": {},
   "source": [
    "### *Casualties by Region*"
   ]
  },
  {
   "cell_type": "code",
   "execution_count": 13,
   "metadata": {},
   "outputs": [
    {
     "data": {
      "application/vnd.plotly.v1+json": {
       "data": [
        {
         "marker": {
          "color": "rgb(100, 229, 184)"
         },
         "name": "Casualties",
         "type": "bar",
         "x": [
          "Australasia & Oceania",
          "Central America & Caribbean",
          "Central Asia",
          "East Asia",
          "Eastern Europe",
          "Middle East & North Africa",
          "North America",
          "South America",
          "South Asia",
          "Southeast Asia",
          "Sub-Saharan Africa",
          "Western Europe"
         ],
         "y": [
          206,
          11428,
          2490,
          10025,
          14377,
          245581,
          7567,
          31424,
          174155,
          29697,
          87605,
          19375
         ]
        },
        {
         "marker": {
          "color": "rgb(255, 188, 214)"
         },
         "name": "Terror Attacks",
         "type": "bar",
         "x": [
          "Australasia & Oceania",
          "Central America & Caribbean",
          "Central Asia",
          "East Asia",
          "Eastern Europe",
          "Middle East & North Africa",
          "North America",
          "South America",
          "South Asia",
          "Southeast Asia",
          "Sub-Saharan Africa",
          "Western Europe"
         ],
         "y": [
          132,
          5317,
          365,
          485,
          3247,
          31485,
          2517,
          14215,
          30832,
          7948,
          10089,
          12102
         ]
        }
       ],
       "layout": {
        "barmode": "group",
        "title": "Total Casualties and Terror Attacks by Region"
       }
      },
      "text/html": [
       "<div id=\"edcd770d-c6bc-4d03-a966-d6e7973e9c8f\" style=\"height: 525px; width: 100%;\" class=\"plotly-graph-div\"></div><script type=\"text/javascript\">require([\"plotly\"], function(Plotly) { window.PLOTLYENV=window.PLOTLYENV || {};window.PLOTLYENV.BASE_URL=\"https://plot.ly\";Plotly.newPlot(\"edcd770d-c6bc-4d03-a966-d6e7973e9c8f\", [{\"marker\": {\"color\": \"rgb(100, 229, 184)\"}, \"y\": [206, 11428, 2490, 10025, 14377, 245581, 7567, 31424, 174155, 29697, 87605, 19375], \"type\": \"bar\", \"name\": \"Casualties\", \"x\": [\"Australasia & Oceania\", \"Central America & Caribbean\", \"Central Asia\", \"East Asia\", \"Eastern Europe\", \"Middle East & North Africa\", \"North America\", \"South America\", \"South Asia\", \"Southeast Asia\", \"Sub-Saharan Africa\", \"Western Europe\"]}, {\"marker\": {\"color\": \"rgb(255, 188, 214)\"}, \"y\": [132, 5317, 365, 485, 3247, 31485, 2517, 14215, 30832, 7948, 10089, 12102], \"type\": \"bar\", \"name\": \"Terror Attacks\", \"x\": [\"Australasia & Oceania\", \"Central America & Caribbean\", \"Central Asia\", \"East Asia\", \"Eastern Europe\", \"Middle East & North Africa\", \"North America\", \"South America\", \"South Asia\", \"Southeast Asia\", \"Sub-Saharan Africa\", \"Western Europe\"]}], {\"barmode\": \"group\", \"title\": \"Total Casualties and Terror Attacks by Region\"}, {\"linkText\": \"Export to plot.ly\", \"showLink\": true})});</script>"
      ],
      "text/vnd.plotly.v1+html": [
       "<div id=\"edcd770d-c6bc-4d03-a966-d6e7973e9c8f\" style=\"height: 525px; width: 100%;\" class=\"plotly-graph-div\"></div><script type=\"text/javascript\">require([\"plotly\"], function(Plotly) { window.PLOTLYENV=window.PLOTLYENV || {};window.PLOTLYENV.BASE_URL=\"https://plot.ly\";Plotly.newPlot(\"edcd770d-c6bc-4d03-a966-d6e7973e9c8f\", [{\"marker\": {\"color\": \"rgb(100, 229, 184)\"}, \"y\": [206, 11428, 2490, 10025, 14377, 245581, 7567, 31424, 174155, 29697, 87605, 19375], \"type\": \"bar\", \"name\": \"Casualties\", \"x\": [\"Australasia & Oceania\", \"Central America & Caribbean\", \"Central Asia\", \"East Asia\", \"Eastern Europe\", \"Middle East & North Africa\", \"North America\", \"South America\", \"South Asia\", \"Southeast Asia\", \"Sub-Saharan Africa\", \"Western Europe\"]}, {\"marker\": {\"color\": \"rgb(255, 188, 214)\"}, \"y\": [132, 5317, 365, 485, 3247, 31485, 2517, 14215, 30832, 7948, 10089, 12102], \"type\": \"bar\", \"name\": \"Terror Attacks\", \"x\": [\"Australasia & Oceania\", \"Central America & Caribbean\", \"Central Asia\", \"East Asia\", \"Eastern Europe\", \"Middle East & North Africa\", \"North America\", \"South America\", \"South Asia\", \"Southeast Asia\", \"Sub-Saharan Africa\", \"Western Europe\"]}], {\"barmode\": \"group\", \"title\": \"Total Casualties and Terror Attacks by Region\"}, {\"linkText\": \"Export to plot.ly\", \"showLink\": true})});</script>"
      ]
     },
     "metadata": {},
     "output_type": "display_data"
    }
   ],
   "source": [
    "\n",
    "cpr = df.groupby('region_txt', as_index= False)['casualties'].sum()\n",
    "apr = df.groupby('region_txt')['region_txt'].count()\n",
    "\n",
    "trace_1 = go.Bar(x = cpr.region_txt, y = cpr.casualties,\n",
    "                 marker = dict(color = 'rgb(100, 229, 184)'),\n",
    "                 name = 'Casualties')\n",
    "\n",
    "trace_2 = go.Bar(x = apr.index, y = apr,\n",
    "                 marker = dict(color = 'rgb(255, 188, 214)'),\n",
    "                 name = 'Terror Attacks')\n",
    "\n",
    "layout = go.Layout(title = \"Total Casualties and Terror Attacks by Region\", barmode='group' )\n",
    "\n",
    "\n",
    "py.iplot(dict(data = [trace_1,trace_2], layout = layout))"
   ]
  },
  {
   "cell_type": "markdown",
   "metadata": {},
   "source": [
    "### *Casualties and Attacks by Country*"
   ]
  },
  {
   "cell_type": "code",
   "execution_count": 14,
   "metadata": {},
   "outputs": [
    {
     "data": {
      "application/vnd.plotly.v1+json": {
       "data": [
        {
         "marker": {
          "color": "rgb(255, 188, 214)"
         },
         "name": "Terror Attacks",
         "type": "bar",
         "x": [
          "Iraq",
          "Pakistan",
          "Afghanistan",
          "India",
          "Colombia",
          "Peru",
          "Philippines",
          "United Kingdom",
          "El Salvador",
          "Thailand",
          "Spain",
          "Nigeria",
          "Turkey",
          "United States",
          "France",
          "Sri Lanka",
          "Chile",
          "Somalia",
          "Algeria",
          "Yemen"
         ],
         "y": [
          16748,
          10428,
          8237,
          8036,
          5853,
          5156,
          4071,
          3740,
          3056,
          2766,
          2764,
          2631,
          2340,
          2156,
          2045,
          1978,
          1871,
          1856,
          1815,
          1805,
          1704,
          1501,
          1391,
          1348,
          1285,
          1276,
          1190,
          1147,
          1126,
          1097,
          941,
          893,
          846,
          802,
          747,
          596,
          557,
          484,
          463,
          438,
          403,
          399,
          354,
          303,
          295,
          294,
          290,
          253,
          240,
          233,
          230,
          224,
          223,
          208,
          197,
          190,
          176,
          164,
          157,
          149,
          149,
          148,
          139,
          122,
          120,
          118,
          117,
          116,
          107,
          107,
          106,
          104,
          103,
          93,
          89,
          85,
          82,
          81,
          79,
          79,
          78,
          75,
          75,
          75,
          75,
          73,
          66,
          64,
          63,
          60,
          60,
          58,
          56,
          54,
          52,
          49,
          49,
          47,
          46,
          46,
          43,
          43,
          39,
          38,
          37,
          37,
          37,
          35,
          32,
          29,
          28,
          27,
          25,
          25,
          23,
          22,
          21,
          19,
          19,
          19,
          18,
          18,
          18,
          18,
          16,
          16,
          15,
          15,
          15,
          15,
          14,
          14,
          14,
          14,
          14,
          14,
          13,
          12,
          12,
          12,
          11,
          11,
          11,
          11,
          10,
          10,
          10,
          10,
          10,
          10,
          9,
          9,
          9,
          9,
          9,
          9,
          8,
          8,
          8,
          8,
          7,
          6,
          6,
          6,
          6,
          5,
          5,
          5,
          4,
          4,
          4,
          4,
          4,
          4,
          3,
          3,
          3,
          3,
          3,
          3,
          2,
          2,
          2,
          2,
          2,
          2,
          2,
          2,
          2,
          1,
          1,
          1,
          1,
          1,
          1,
          1,
          1,
          1,
          1,
          1,
          1
         ]
        }
       ],
       "layout": {
        "barmode": "relative",
        "title": "top 20 most targeted countries"
       }
      },
      "text/html": [
       "<div id=\"005cfcfd-b9d1-4d3b-ba15-5b8483a16aa0\" style=\"height: 525px; width: 100%;\" class=\"plotly-graph-div\"></div><script type=\"text/javascript\">require([\"plotly\"], function(Plotly) { window.PLOTLYENV=window.PLOTLYENV || {};window.PLOTLYENV.BASE_URL=\"https://plot.ly\";Plotly.newPlot(\"005cfcfd-b9d1-4d3b-ba15-5b8483a16aa0\", [{\"marker\": {\"color\": \"rgb(255, 188, 214)\"}, \"y\": [16748, 10428, 8237, 8036, 5853, 5156, 4071, 3740, 3056, 2766, 2764, 2631, 2340, 2156, 2045, 1978, 1871, 1856, 1815, 1805, 1704, 1501, 1391, 1348, 1285, 1276, 1190, 1147, 1126, 1097, 941, 893, 846, 802, 747, 596, 557, 484, 463, 438, 403, 399, 354, 303, 295, 294, 290, 253, 240, 233, 230, 224, 223, 208, 197, 190, 176, 164, 157, 149, 149, 148, 139, 122, 120, 118, 117, 116, 107, 107, 106, 104, 103, 93, 89, 85, 82, 81, 79, 79, 78, 75, 75, 75, 75, 73, 66, 64, 63, 60, 60, 58, 56, 54, 52, 49, 49, 47, 46, 46, 43, 43, 39, 38, 37, 37, 37, 35, 32, 29, 28, 27, 25, 25, 23, 22, 21, 19, 19, 19, 18, 18, 18, 18, 16, 16, 15, 15, 15, 15, 14, 14, 14, 14, 14, 14, 13, 12, 12, 12, 11, 11, 11, 11, 10, 10, 10, 10, 10, 10, 9, 9, 9, 9, 9, 9, 8, 8, 8, 8, 7, 6, 6, 6, 6, 5, 5, 5, 4, 4, 4, 4, 4, 4, 3, 3, 3, 3, 3, 3, 2, 2, 2, 2, 2, 2, 2, 2, 2, 1, 1, 1, 1, 1, 1, 1, 1, 1, 1, 1, 1], \"type\": \"bar\", \"name\": \"Terror Attacks\", \"x\": [\"Iraq\", \"Pakistan\", \"Afghanistan\", \"India\", \"Colombia\", \"Peru\", \"Philippines\", \"United Kingdom\", \"El Salvador\", \"Thailand\", \"Spain\", \"Nigeria\", \"Turkey\", \"United States\", \"France\", \"Sri Lanka\", \"Chile\", \"Somalia\", \"Algeria\", \"Yemen\"]}], {\"barmode\": \"relative\", \"title\": \"top 20 most targeted countries\"}, {\"linkText\": \"Export to plot.ly\", \"showLink\": true})});</script>"
      ],
      "text/vnd.plotly.v1+html": [
       "<div id=\"005cfcfd-b9d1-4d3b-ba15-5b8483a16aa0\" style=\"height: 525px; width: 100%;\" class=\"plotly-graph-div\"></div><script type=\"text/javascript\">require([\"plotly\"], function(Plotly) { window.PLOTLYENV=window.PLOTLYENV || {};window.PLOTLYENV.BASE_URL=\"https://plot.ly\";Plotly.newPlot(\"005cfcfd-b9d1-4d3b-ba15-5b8483a16aa0\", [{\"marker\": {\"color\": \"rgb(255, 188, 214)\"}, \"y\": [16748, 10428, 8237, 8036, 5853, 5156, 4071, 3740, 3056, 2766, 2764, 2631, 2340, 2156, 2045, 1978, 1871, 1856, 1815, 1805, 1704, 1501, 1391, 1348, 1285, 1276, 1190, 1147, 1126, 1097, 941, 893, 846, 802, 747, 596, 557, 484, 463, 438, 403, 399, 354, 303, 295, 294, 290, 253, 240, 233, 230, 224, 223, 208, 197, 190, 176, 164, 157, 149, 149, 148, 139, 122, 120, 118, 117, 116, 107, 107, 106, 104, 103, 93, 89, 85, 82, 81, 79, 79, 78, 75, 75, 75, 75, 73, 66, 64, 63, 60, 60, 58, 56, 54, 52, 49, 49, 47, 46, 46, 43, 43, 39, 38, 37, 37, 37, 35, 32, 29, 28, 27, 25, 25, 23, 22, 21, 19, 19, 19, 18, 18, 18, 18, 16, 16, 15, 15, 15, 15, 14, 14, 14, 14, 14, 14, 13, 12, 12, 12, 11, 11, 11, 11, 10, 10, 10, 10, 10, 10, 9, 9, 9, 9, 9, 9, 8, 8, 8, 8, 7, 6, 6, 6, 6, 5, 5, 5, 4, 4, 4, 4, 4, 4, 3, 3, 3, 3, 3, 3, 2, 2, 2, 2, 2, 2, 2, 2, 2, 1, 1, 1, 1, 1, 1, 1, 1, 1, 1, 1, 1], \"type\": \"bar\", \"name\": \"Terror Attacks\", \"x\": [\"Iraq\", \"Pakistan\", \"Afghanistan\", \"India\", \"Colombia\", \"Peru\", \"Philippines\", \"United Kingdom\", \"El Salvador\", \"Thailand\", \"Spain\", \"Nigeria\", \"Turkey\", \"United States\", \"France\", \"Sri Lanka\", \"Chile\", \"Somalia\", \"Algeria\", \"Yemen\"]}], {\"barmode\": \"relative\", \"title\": \"top 20 most targeted countries\"}, {\"linkText\": \"Export to plot.ly\", \"showLink\": true})});</script>"
      ]
     },
     "metadata": {},
     "output_type": "display_data"
    }
   ],
   "source": [
    "### Top 10 countries by attack/fatalities\n",
    "apc = df.groupby('country_txt')['country_txt'].count().sort_values(ascending= False)\n",
    "cpc = df.groupby('country_txt', as_index= False)['casualties'].sum().sort_values(by = 'casualties', ascending= False)\n",
    "cc = pd.merge(pd.DataFrame(apc), cpc, on = 'country_txt')\n",
    "\n",
    "\n",
    "trace = go.Bar(x = apc.index[:20],y = apc,\n",
    "                 marker = dict(color = 'rgb(255, 188, 214)'),\n",
    "                 name = 'Terror Attacks')\n",
    "\n",
    "layout = go.Layout(title = 'top 20 most targeted countries', barmode='relative' )\n",
    "\n",
    "py.iplot(dict(data = [trace], layout = layout)) "
   ]
  },
  {
   "cell_type": "code",
   "execution_count": null,
   "metadata": {
    "collapsed": true
   },
   "outputs": [],
   "source": [
    "# 3d filled lines for number of attacks per year per top country\n"
   ]
  },
  {
   "cell_type": "code",
   "execution_count": null,
   "metadata": {
    "collapsed": true
   },
   "outputs": [],
   "source": [
    "cpw = df.groupby('weaptype1_txt', as_index= False)['casualties'].sum().sort_values(by = 'casualties', ascending= False)\n",
    "#### ELEVATION MAPPING w Casulaties\n"
   ]
  },
  {
   "cell_type": "code",
   "execution_count": null,
   "metadata": {
    "collapsed": true
   },
   "outputs": [],
   "source": [
    "app = df.groupby('gname')['gname'].count().sort_values( ascending= False).drop('unknown')\n",
    "# https://plot.ly/python/wind-rose-charts/"
   ]
  },
  {
   "cell_type": "code",
   "execution_count": null,
   "metadata": {
    "collapsed": true
   },
   "outputs": [],
   "source": [
    "# Interactive map with number of attacks"
   ]
  },
  {
   "cell_type": "code",
   "execution_count": null,
   "metadata": {
    "collapsed": true
   },
   "outputs": [],
   "source": [
    "#Top target types"
   ]
  },
  {
   "cell_type": "code",
   "execution_count": null,
   "metadata": {
    "collapsed": true
   },
   "outputs": [],
   "source": [
    "# Fatalities by target"
   ]
  },
  {
   "cell_type": "code",
   "execution_count": null,
   "metadata": {
    "collapsed": true
   },
   "outputs": [],
   "source": [
    "### Fatalities by weapon type"
   ]
  },
  {
   "cell_type": "code",
   "execution_count": null,
   "metadata": {
    "collapsed": true
   },
   "outputs": [],
   "source": [
    "# Fatalities/Casualties by top perpetrator"
   ]
  },
  {
   "cell_type": "code",
   "execution_count": null,
   "metadata": {
    "collapsed": true
   },
   "outputs": [],
   "source": [
    "# Attack types per year?"
   ]
  },
  {
   "cell_type": "code",
   "execution_count": null,
   "metadata": {
    "collapsed": true
   },
   "outputs": [],
   "source": []
  },
  {
   "cell_type": "code",
   "execution_count": null,
   "metadata": {
    "collapsed": true
   },
   "outputs": [],
   "source": []
  },
  {
   "cell_type": "markdown",
   "metadata": {},
   "source": [
    "## Feature Analysis\n",
    "[Table of Contents](#Table-of-Contents:)"
   ]
  },
  {
   "cell_type": "markdown",
   "metadata": {},
   "source": [
    "### Target Selection"
   ]
  },
  {
   "cell_type": "markdown",
   "metadata": {},
   "source": [
    "Since we are trying to predict whether or not there will be casualties during a terrorist attack. We define our target as the binary counterpart to our casualties feature\n",
    "\n",
    "- Casualties : 1\n",
    "\n",
    "- No Casualties : 0\n"
   ]
  },
  {
   "cell_type": "markdown",
   "metadata": {},
   "source": [
    "Our current casualties variable is continuous. As such, we hereby apply a lambda function in order to transform our target from its continuous form to a binary state."
   ]
  },
  {
   "cell_type": "code",
   "execution_count": 16,
   "metadata": {
    "collapsed": true
   },
   "outputs": [],
   "source": [
    "y = df.casualties.apply(lambda x: 0 if x == 0 else 1).values"
   ]
  },
  {
   "cell_type": "markdown",
   "metadata": {},
   "source": [
    "### Feature Selection"
   ]
  },
  {
   "cell_type": "code",
   "execution_count": 17,
   "metadata": {
    "collapsed": true
   },
   "outputs": [],
   "source": [
    "\n",
    "numerical = ['extended', 'vicinity', 'multiple', 'success', 'claimed',\n",
    "             'suicide', 'guncertain1', 'property', 'ishostkid','natlty1_txt']\n",
    "\n",
    "categorical = ['country_txt', 'alternative_txt', 'attacktype1_txt',\n",
    "              'targtype1_txt', 'weaptype1_txt', 'gname', 'target1']\n"
   ]
  },
  {
   "cell_type": "markdown",
   "metadata": {},
   "source": [
    "Once again, we create a Patsy formula in order to frame our feature variables. This time, claimed is included in the features."
   ]
  },
  {
   "cell_type": "code",
   "execution_count": 18,
   "metadata": {},
   "outputs": [
    {
     "data": {
      "text/plain": [
       "'extended + vicinity + multiple + success + claimed + suicide + guncertain1 + property + ishostkid + natlty1_txt + C(country_txt) + C(alternative_txt) + C(attacktype1_txt) + C(targtype1_txt) + C(weaptype1_txt) + C(gname) + C(target1) -1'"
      ]
     },
     "execution_count": 18,
     "metadata": {},
     "output_type": "execute_result"
    }
   ],
   "source": [
    "formula =  ' + '.join(numerical)+ ' + ' + ' + '.join(['C('+i+')' for i in categorical]) + ' -1' \n",
    "formula"
   ]
  },
  {
   "cell_type": "code",
   "execution_count": 19,
   "metadata": {
    "collapsed": true
   },
   "outputs": [],
   "source": [
    "X = patsy.dmatrix(formula, data = df, return_type= 'dataframe')"
   ]
  },
  {
   "cell_type": "code",
   "execution_count": 20,
   "metadata": {},
   "outputs": [
    {
     "name": "stdout",
     "output_type": "stream",
     "text": [
      "(118734, 994) (118734,)\n"
     ]
    }
   ],
   "source": [
    "print X.shape, y.shape"
   ]
  },
  {
   "cell_type": "markdown",
   "metadata": {},
   "source": [
    "Let's take a look at our features"
   ]
  },
  {
   "cell_type": "code",
   "execution_count": 21,
   "metadata": {},
   "outputs": [
    {
     "data": {
      "text/html": [
       "<div>\n",
       "<table border=\"1\" class=\"dataframe\">\n",
       "  <thead>\n",
       "    <tr style=\"text-align: right;\">\n",
       "      <th></th>\n",
       "      <th>natlty1_txt[.]</th>\n",
       "      <th>natlty1_txt[Afghanistan]</th>\n",
       "      <th>natlty1_txt[Albania]</th>\n",
       "      <th>natlty1_txt[Algeria]</th>\n",
       "      <th>natlty1_txt[Angola]</th>\n",
       "      <th>natlty1_txt[Argentina]</th>\n",
       "      <th>natlty1_txt[Armenia]</th>\n",
       "      <th>natlty1_txt[Asian]</th>\n",
       "      <th>natlty1_txt[Australia]</th>\n",
       "      <th>natlty1_txt[Austria]</th>\n",
       "      <th>natlty1_txt[Azerbaijan]</th>\n",
       "      <th>natlty1_txt[Bahamas]</th>\n",
       "      <th>natlty1_txt[Bahrain]</th>\n",
       "      <th>natlty1_txt[Bangladesh]</th>\n",
       "      <th>natlty1_txt[Barbados]</th>\n",
       "      <th>natlty1_txt[Belarus]</th>\n",
       "      <th>natlty1_txt[Belgium]</th>\n",
       "      <th>natlty1_txt[Belize]</th>\n",
       "      <th>natlty1_txt[Benin]</th>\n",
       "      <th>natlty1_txt[Bermuda]</th>\n",
       "      <th>...</th>\n",
       "      <th>C(target1)[T.student]</th>\n",
       "      <th>C(target1)[T.teacher]</th>\n",
       "      <th>C(target1)[T.town]</th>\n",
       "      <th>C(target1)[T.train]</th>\n",
       "      <th>C(target1)[T.truck]</th>\n",
       "      <th>C(target1)[T.unit]</th>\n",
       "      <th>C(target1)[T.unknown]</th>\n",
       "      <th>C(target1)[T.van]</th>\n",
       "      <th>C(target1)[T.vehicle]</th>\n",
       "      <th>C(target1)[T.village]</th>\n",
       "      <th>C(target1)[T.worker]</th>\n",
       "      <th>extended</th>\n",
       "      <th>vicinity</th>\n",
       "      <th>multiple</th>\n",
       "      <th>success</th>\n",
       "      <th>claimed</th>\n",
       "      <th>suicide</th>\n",
       "      <th>guncertain1</th>\n",
       "      <th>property</th>\n",
       "      <th>ishostkid</th>\n",
       "    </tr>\n",
       "  </thead>\n",
       "  <tbody>\n",
       "    <tr>\n",
       "      <th>0</th>\n",
       "      <td>0.0</td>\n",
       "      <td>0.0</td>\n",
       "      <td>0.0</td>\n",
       "      <td>0.0</td>\n",
       "      <td>0.0</td>\n",
       "      <td>0.0</td>\n",
       "      <td>0.0</td>\n",
       "      <td>0.0</td>\n",
       "      <td>0.0</td>\n",
       "      <td>0.0</td>\n",
       "      <td>0.0</td>\n",
       "      <td>0.0</td>\n",
       "      <td>0.0</td>\n",
       "      <td>0.0</td>\n",
       "      <td>0.0</td>\n",
       "      <td>0.0</td>\n",
       "      <td>0.0</td>\n",
       "      <td>0.0</td>\n",
       "      <td>0.0</td>\n",
       "      <td>0.0</td>\n",
       "      <td>...</td>\n",
       "      <td>0.0</td>\n",
       "      <td>0.0</td>\n",
       "      <td>0.0</td>\n",
       "      <td>0.0</td>\n",
       "      <td>0.0</td>\n",
       "      <td>0.0</td>\n",
       "      <td>0.0</td>\n",
       "      <td>0.0</td>\n",
       "      <td>0.0</td>\n",
       "      <td>0.0</td>\n",
       "      <td>0.0</td>\n",
       "      <td>0.0</td>\n",
       "      <td>0.0</td>\n",
       "      <td>0.0</td>\n",
       "      <td>1.0</td>\n",
       "      <td>1.0</td>\n",
       "      <td>0.0</td>\n",
       "      <td>0.0</td>\n",
       "      <td>0.0</td>\n",
       "      <td>0.0</td>\n",
       "    </tr>\n",
       "    <tr>\n",
       "      <th>1</th>\n",
       "      <td>0.0</td>\n",
       "      <td>0.0</td>\n",
       "      <td>0.0</td>\n",
       "      <td>0.0</td>\n",
       "      <td>0.0</td>\n",
       "      <td>0.0</td>\n",
       "      <td>0.0</td>\n",
       "      <td>0.0</td>\n",
       "      <td>0.0</td>\n",
       "      <td>0.0</td>\n",
       "      <td>0.0</td>\n",
       "      <td>0.0</td>\n",
       "      <td>0.0</td>\n",
       "      <td>0.0</td>\n",
       "      <td>0.0</td>\n",
       "      <td>0.0</td>\n",
       "      <td>1.0</td>\n",
       "      <td>0.0</td>\n",
       "      <td>0.0</td>\n",
       "      <td>0.0</td>\n",
       "      <td>...</td>\n",
       "      <td>0.0</td>\n",
       "      <td>0.0</td>\n",
       "      <td>0.0</td>\n",
       "      <td>0.0</td>\n",
       "      <td>0.0</td>\n",
       "      <td>0.0</td>\n",
       "      <td>0.0</td>\n",
       "      <td>0.0</td>\n",
       "      <td>0.0</td>\n",
       "      <td>0.0</td>\n",
       "      <td>0.0</td>\n",
       "      <td>0.0</td>\n",
       "      <td>0.0</td>\n",
       "      <td>0.0</td>\n",
       "      <td>1.0</td>\n",
       "      <td>1.0</td>\n",
       "      <td>0.0</td>\n",
       "      <td>0.0</td>\n",
       "      <td>0.0</td>\n",
       "      <td>1.0</td>\n",
       "    </tr>\n",
       "  </tbody>\n",
       "</table>\n",
       "<p>2 rows × 994 columns</p>\n",
       "</div>"
      ],
      "text/plain": [
       "   natlty1_txt[.]  natlty1_txt[Afghanistan]  natlty1_txt[Albania]  \\\n",
       "0             0.0                       0.0                   0.0   \n",
       "1             0.0                       0.0                   0.0   \n",
       "\n",
       "   natlty1_txt[Algeria]  natlty1_txt[Angola]  natlty1_txt[Argentina]  \\\n",
       "0                   0.0                  0.0                     0.0   \n",
       "1                   0.0                  0.0                     0.0   \n",
       "\n",
       "   natlty1_txt[Armenia]  natlty1_txt[Asian]  natlty1_txt[Australia]  \\\n",
       "0                   0.0                 0.0                     0.0   \n",
       "1                   0.0                 0.0                     0.0   \n",
       "\n",
       "   natlty1_txt[Austria]  natlty1_txt[Azerbaijan]  natlty1_txt[Bahamas]  \\\n",
       "0                   0.0                      0.0                   0.0   \n",
       "1                   0.0                      0.0                   0.0   \n",
       "\n",
       "   natlty1_txt[Bahrain]  natlty1_txt[Bangladesh]  natlty1_txt[Barbados]  \\\n",
       "0                   0.0                      0.0                    0.0   \n",
       "1                   0.0                      0.0                    0.0   \n",
       "\n",
       "   natlty1_txt[Belarus]  natlty1_txt[Belgium]  natlty1_txt[Belize]  \\\n",
       "0                   0.0                   0.0                  0.0   \n",
       "1                   0.0                   1.0                  0.0   \n",
       "\n",
       "   natlty1_txt[Benin]  natlty1_txt[Bermuda]    ...      C(target1)[T.student]  \\\n",
       "0                 0.0                   0.0    ...                        0.0   \n",
       "1                 0.0                   0.0    ...                        0.0   \n",
       "\n",
       "   C(target1)[T.teacher]  C(target1)[T.town]  C(target1)[T.train]  \\\n",
       "0                    0.0                 0.0                  0.0   \n",
       "1                    0.0                 0.0                  0.0   \n",
       "\n",
       "   C(target1)[T.truck]  C(target1)[T.unit]  C(target1)[T.unknown]  \\\n",
       "0                  0.0                 0.0                    0.0   \n",
       "1                  0.0                 0.0                    0.0   \n",
       "\n",
       "   C(target1)[T.van]  C(target1)[T.vehicle]  C(target1)[T.village]  \\\n",
       "0                0.0                    0.0                    0.0   \n",
       "1                0.0                    0.0                    0.0   \n",
       "\n",
       "   C(target1)[T.worker]  extended  vicinity  multiple  success  claimed  \\\n",
       "0                   0.0       0.0       0.0       0.0      1.0      1.0   \n",
       "1                   0.0       0.0       0.0       0.0      1.0      1.0   \n",
       "\n",
       "   suicide  guncertain1  property  ishostkid  \n",
       "0      0.0          0.0       0.0        0.0  \n",
       "1      0.0          0.0       0.0        1.0  \n",
       "\n",
       "[2 rows x 994 columns]"
      ]
     },
     "execution_count": 21,
     "metadata": {},
     "output_type": "execute_result"
    }
   ],
   "source": [
    "X.head(2) "
   ]
  },
  {
   "cell_type": "markdown",
   "metadata": {},
   "source": [
    "In order to test the accuracy of our model, we split our dataset into a training set and a testing set."
   ]
  },
  {
   "cell_type": "markdown",
   "metadata": {},
   "source": [
    "### Feature Importance\n",
    "[Table of Contents](#Table-of-Contents:)"
   ]
  },
  {
   "cell_type": "markdown",
   "metadata": {},
   "source": [
    "#### Principal Component Analysis"
   ]
  },
  {
   "cell_type": "code",
   "execution_count": 22,
   "metadata": {
    "collapsed": true
   },
   "outputs": [],
   "source": [
    "pca_model = PCA(n_components=len(X.columns)) \n",
    "pca_model = pca_model.fit(X)"
   ]
  },
  {
   "cell_type": "code",
   "execution_count": 23,
   "metadata": {},
   "outputs": [
    {
     "ename": "NameError",
     "evalue": "name 'pca' is not defined",
     "output_type": "error",
     "traceback": [
      "\u001b[0;31m---------------------------------------------------------------------------\u001b[0m",
      "\u001b[0;31mNameError\u001b[0m                                 Traceback (most recent call last)",
      "\u001b[0;32m<ipython-input-23-26c4ae8cde13>\u001b[0m in \u001b[0;36m<module>\u001b[0;34m()\u001b[0m\n\u001b[0;32m----> 1\u001b[0;31m \u001b[0mvar_ratio\u001b[0m \u001b[0;34m=\u001b[0m \u001b[0mpca\u001b[0m\u001b[0;34m.\u001b[0m\u001b[0mexplained_variance_ratio_\u001b[0m\u001b[0;34m\u001b[0m\u001b[0m\n\u001b[0m\u001b[1;32m      2\u001b[0m \u001b[0mvar_ratio\u001b[0m \u001b[0;34m=\u001b[0m \u001b[0mnp\u001b[0m\u001b[0;34m.\u001b[0m\u001b[0mcumsum\u001b[0m\u001b[0;34m(\u001b[0m\u001b[0mvar_ratio\u001b[0m\u001b[0;34m)\u001b[0m\u001b[0;34m\u001b[0m\u001b[0m\n\u001b[1;32m      3\u001b[0m \u001b[0mplot_cumsum_variance\u001b[0m\u001b[0;34m(\u001b[0m\u001b[0mvar_ratio\u001b[0m\u001b[0;34m)\u001b[0m\u001b[0;34m\u001b[0m\u001b[0m\n",
      "\u001b[0;31mNameError\u001b[0m: name 'pca' is not defined"
     ]
    }
   ],
   "source": [
    "var_ratio = pca.explained_variance_ratio_\n",
    "var_ratio = np.cumsum(var_ratio)\n",
    "plot_cumsum_variance(var_ratio)"
   ]
  },
  {
   "cell_type": "markdown",
   "metadata": {},
   "source": [
    "#### Chi2"
   ]
  },
  {
   "cell_type": "code",
   "execution_count": null,
   "metadata": {
    "collapsed": true
   },
   "outputs": [],
   "source": [
    "X_columns = list(X.columns)\n",
    "\n",
    "skb_chi2 = SelectKBest(chi2, k=20)\n",
    "# train the selector on our data\n",
    "\n",
    "skb_chi2.fit(X, y)\n",
    "\n",
    "# examine results\n",
    "top_15_chi2 = pd.DataFrame([X_columns, list(skb_chi2.scores_)], \n",
    "                     index=['feature','chi2 score']).T.sort_values('chi2 score', ascending=False)[:15]\n",
    "top_15_chi2"
   ]
  },
  {
   "cell_type": "code",
   "execution_count": null,
   "metadata": {
    "collapsed": true
   },
   "outputs": [],
   "source": [
    "plt.figure(figsize=(13,6))\n",
    "\n",
    "sns.barplot(x = top_15_chi2['chi2 score'], y = top_15_chi2.feature, palette= 'viridis')\n",
    "plt.show()"
   ]
  },
  {
   "cell_type": "markdown",
   "metadata": {},
   "source": [
    "### Scoring Metrics\n",
    "[Table of Contents](#Table-of-Contents:)"
   ]
  },
  {
   "cell_type": "markdown",
   "metadata": {},
   "source": [
    "In order to evaluate our model we simultaneously use two approaches:\n",
    "- **Train-Test Splitting:** \n",
    "    \n",
    "    Splitting our data into training and testing set allows us to train our model on one set and test its accuracy on the other.\n",
    "\n",
    "\n",
    "- **Recall Scoring: **\n",
    "    \n",
    "    Given the nature of the data, we are better off predicting casualties and sending an ambulance when there is no casualties than not to do anything when there are. As such, we are trying to maximize our true positives and reduce our false negatives, hence trying to maximize our recall score!"
   ]
  },
  {
   "cell_type": "code",
   "execution_count": 11,
   "metadata": {},
   "outputs": [
    {
     "name": "stdout",
     "output_type": "stream",
     "text": [
      "(94987, 994) (94987,) (23747, 994) (23747,)\n"
     ]
    }
   ],
   "source": [
    "X_train, X_test, y_train, y_test = train_test_split(X, y, test_size = .2, random_state = 102)\n",
    "\n",
    "print X_train.shape, y_train.shape, X_test.shape, y_test.shape"
   ]
  },
  {
   "cell_type": "markdown",
   "metadata": {
    "collapsed": true
   },
   "source": [
    "### Model Selection\n",
    "[Table of Contents](#Table-of-Contents:)"
   ]
  },
  {
   "cell_type": "markdown",
   "metadata": {},
   "source": [
    "Let's get started! \n",
    "\n",
    "\n",
    "We start by creating a dictionary of models to test on our data."
   ]
  },
  {
   "cell_type": "code",
   "execution_count": null,
   "metadata": {
    "collapsed": true
   },
   "outputs": [],
   "source": [
    "vanilla_models = { \n",
    "    \n",
    "    # Linear Models\n",
    "    'Logistic Regression' : LogisticRegression(n_jobs = -1, random_state = 56, penalty = 'l1'),\n",
    "    'Perceptron' : Perceptron(n_iter = 20, n_jobs = -1, random_state= 56),\n",
    "    'SGD Classifier' : SGDClassifier(penalty = 'l1', n_jobs = -1, random_state= 56),\n",
    "    \n",
    "    # Support Vector Machine\n",
    "    'Linear SVC' : LinearSVC(penalty = 'l1', random_state = 56, dual = False),\n",
    "    \n",
    "    # Naive Bayes:\n",
    "    'Gaussian Naive-Bayes' : GaussianNB(),\n",
    "    \n",
    "    # Decision Tree & Ensemble\n",
    "    'Decision Tree Classifier' : DecisionTreeClassifier(random_state= 56),\n",
    "    'Random Forest Classifier': RandomForestClassifier(n_jobs = -1, random_state= 56),\n",
    "    'Gradient Boosting Classifier' : GradientBoostingClassifier(random_state= 56),\n",
    "    'AdA Boost Classifier': AdaBoostClassifier(random_state = 56),\n",
    "    'Bagging Classifier' : BaggingClassifier(random_state= 56, n_jobs = -1),\n",
    "    \n",
    "    # K-Nearest Neighbor:\n",
    "    \n",
    "    # Multi-Layer Perceptron (Neural Network):\n",
    "    'MLP Classifier' : MLPClassifier(activation = 'logistic', random_state = 56, max_iter=400),  \n",
    "    \n",
    "}"
   ]
  },
  {
   "cell_type": "markdown",
   "metadata": {},
   "source": [
    "We now instantiate a pipeline to fit our models with our training data"
   ]
  },
  {
   "cell_type": "code",
   "execution_count": null,
   "metadata": {
    "collapsed": true
   },
   "outputs": [],
   "source": [
    "score_table = pd.DataFrame(columns = ['model', 'cv_10'])\n",
    "\n",
    "\n",
    "for model, n in zip(vanilla_models, np.arange(len(vanilla_models))):\n",
    "                    \n",
    "    clf = Pipeline([\n",
    "          ('classification', vanilla_models[model]),\n",
    "        ])\n",
    "    \n",
    "    clf.fit(X_train, y_train)\n",
    "    \n",
    "    cv_10 = cross_val_score(clf, X_test, y_test, cv = 10, scoring = 'recall').mean()\n",
    "    \n",
    "    score_table.loc[n,'model'] = model\n",
    "    score_table.loc[n,'cv_10'] = cv_10"
   ]
  },
  {
   "cell_type": "code",
   "execution_count": 58,
   "metadata": {},
   "outputs": [
    {
     "data": {
      "text/html": [
       "<div>\n",
       "<table border=\"1\" class=\"dataframe\">\n",
       "  <thead>\n",
       "    <tr style=\"text-align: right;\">\n",
       "      <th></th>\n",
       "      <th>model</th>\n",
       "      <th>cv_10</th>\n",
       "    </tr>\n",
       "  </thead>\n",
       "  <tbody>\n",
       "    <tr>\n",
       "      <th>4</th>\n",
       "      <td>Random Forest Classifier</td>\n",
       "      <td>0.858932</td>\n",
       "    </tr>\n",
       "    <tr>\n",
       "      <th>7</th>\n",
       "      <td>Bagging Classifier</td>\n",
       "      <td>0.857205</td>\n",
       "    </tr>\n",
       "    <tr>\n",
       "      <th>2</th>\n",
       "      <td>MLP Classifier</td>\n",
       "      <td>0.844301</td>\n",
       "    </tr>\n",
       "    <tr>\n",
       "      <th>8</th>\n",
       "      <td>Logistic Regression</td>\n",
       "      <td>0.843227</td>\n",
       "    </tr>\n",
       "    <tr>\n",
       "      <th>5</th>\n",
       "      <td>Linear SVC</td>\n",
       "      <td>0.841789</td>\n",
       "    </tr>\n",
       "    <tr>\n",
       "      <th>0</th>\n",
       "      <td>Decision Tree Classifier</td>\n",
       "      <td>0.841157</td>\n",
       "    </tr>\n",
       "    <tr>\n",
       "      <th>1</th>\n",
       "      <td>Gradient Boosting Classifier</td>\n",
       "      <td>0.839967</td>\n",
       "    </tr>\n",
       "    <tr>\n",
       "      <th>6</th>\n",
       "      <td>AdA Boost Classifier</td>\n",
       "      <td>0.834963</td>\n",
       "    </tr>\n",
       "    <tr>\n",
       "      <th>3</th>\n",
       "      <td>SGD Classifier</td>\n",
       "      <td>0.811311</td>\n",
       "    </tr>\n",
       "    <tr>\n",
       "      <th>9</th>\n",
       "      <td>Perceptron</td>\n",
       "      <td>0.802417</td>\n",
       "    </tr>\n",
       "    <tr>\n",
       "      <th>10</th>\n",
       "      <td>Gaussian Naive-Bayes</td>\n",
       "      <td>0.652962</td>\n",
       "    </tr>\n",
       "  </tbody>\n",
       "</table>\n",
       "</div>"
      ],
      "text/plain": [
       "                           model     cv_10\n",
       "4       Random Forest Classifier  0.858932\n",
       "7             Bagging Classifier  0.857205\n",
       "2                 MLP Classifier  0.844301\n",
       "8            Logistic Regression  0.843227\n",
       "5                     Linear SVC  0.841789\n",
       "0       Decision Tree Classifier  0.841157\n",
       "1   Gradient Boosting Classifier  0.839967\n",
       "6           AdA Boost Classifier  0.834963\n",
       "3                 SGD Classifier  0.811311\n",
       "9                     Perceptron  0.802417\n",
       "10          Gaussian Naive-Bayes  0.652962"
      ]
     },
     "execution_count": 58,
     "metadata": {},
     "output_type": "execute_result"
    }
   ],
   "source": [
    "score_table.sort_values(by = 'cv_10', ascending = False)"
   ]
  },
  {
   "cell_type": "code",
   "execution_count": 59,
   "metadata": {},
   "outputs": [
    {
     "data": {
      "image/png": "[encoded data removed]",
      "text/plain": [
       "<matplotlib.figure.Figure at 0x7f2dbd0e8c90>"
      ]
     },
     "metadata": {
      "image/png": {
       "height": 514,
       "width": 947
      }
     },
     "output_type": "display_data"
    }
   ],
   "source": [
    "\n",
    "plt.figure(figsize = (11,4))\n",
    "plt.xticks(rotation = 45, ha = 'center')\n",
    "sns.barplot(score_table.model, score_table.cv_10, palette = 'viridis');\n"
   ]
  },
  {
   "cell_type": "markdown",
   "metadata": {},
   "source": [
    "From the above, we can see that our top performers are:\n",
    "\n",
    "- Logistic Regression\n",
    "\n",
    "- SGD Classifier\n",
    "\n",
    "- SVC Classification\n",
    "\n",
    "- Random Forest Classifier\n",
    "\n",
    "- Multi-Layer Perceptron"
   ]
  },
  {
   "cell_type": "code",
   "execution_count": 60,
   "metadata": {
    "collapsed": true
   },
   "outputs": [],
   "source": [
    "### USE PRECISION\n",
    "\n",
    "### FEATURE IMPORTANCE FOR EACH MODEL\n",
    "\n",
    "### BARPLOT PRECISION FOR VANILLA MODELS"
   ]
  },
  {
   "cell_type": "markdown",
   "metadata": {},
   "source": [
    "---\n",
    "# IV - Predictive Analysis\n",
    "[Table of Contents](#Table-of-Contents:)"
   ]
  },
  {
   "cell_type": "markdown",
   "metadata": {},
   "source": [
    "## Model Calibration\n"
   ]
  },
  {
   "cell_type": "markdown",
   "metadata": {},
   "source": [
    "### Logistic Regression\n",
    "[Table of Contents](#Table-of-Contents:)"
   ]
  },
  {
   "cell_type": "markdown",
   "metadata": {},
   "source": [
    "The first model we will be trying to improve is the traditional logistic regression. It is one of sklearn's linear models.\n",
    "\n",
    "We use a GridSearchCV process in order to iterate over different hyper-parameters, which can sometimes bring quite significant improvements over our model performance.\n",
    "\n",
    "In our case, we will iterate over different regularization strengths."
   ]
  },
  {
   "cell_type": "markdown",
   "metadata": {},
   "source": [
    "We start by defining our model and the hyper-parameters we want to search through."
   ]
  },
  {
   "cell_type": "code",
   "execution_count": 49,
   "metadata": {
    "collapsed": true
   },
   "outputs": [],
   "source": [
    "lr = LogisticRegression(random_state = 56, n_jobs = -1, penalty = 'l1')\n",
    "\n",
    "lr_params = {\n",
    "    'C': np.linspace(0.001, 1, 20),\n",
    "}"
   ]
  },
  {
   "cell_type": "markdown",
   "metadata": {},
   "source": [
    "We define our GridSearchCV with recall-scoring and five cross-validations"
   ]
  },
  {
   "cell_type": "code",
   "execution_count": 50,
   "metadata": {
    "collapsed": true
   },
   "outputs": [],
   "source": [
    "lr_grid = GridSearchCV(lr, lr_params, scoring = 'recall', cv = 5, n_jobs = -1, error_score = 0)"
   ]
  },
  {
   "cell_type": "markdown",
   "metadata": {},
   "source": [
    "Finally we fit the model, this is where everything happens. The model uses the training set in order to define the best optimization"
   ]
  },
  {
   "cell_type": "code",
   "execution_count": 51,
   "metadata": {},
   "outputs": [
    {
     "data": {
      "text/plain": [
       "GridSearchCV(cv=5, error_score=0,\n",
       "       estimator=LogisticRegression(C=1.0, class_weight=None, dual=False, fit_intercept=True,\n",
       "          intercept_scaling=1, max_iter=100, multi_class='ovr', n_jobs=-1,\n",
       "          penalty='l1', random_state=56, solver='liblinear', tol=0.0001,\n",
       "          verbose=0, warm_start=False),\n",
       "       fit_params={}, iid=True, n_jobs=-1,\n",
       "       param_grid={'C': array([ 0.001  ,  0.05358,  0.10616,  0.15874,  0.21132,  0.26389,\n",
       "        0.31647,  0.36905,  0.42163,  0.47421,  0.52679,  0.57937,\n",
       "        0.63195,  0.68453,  0.73711,  0.78968,  0.84226,  0.89484,\n",
       "        0.94742,  1.     ])},\n",
       "       pre_dispatch='2*n_jobs', refit=True, return_train_score=True,\n",
       "       scoring='precision', verbose=0)"
      ]
     },
     "execution_count": 51,
     "metadata": {},
     "output_type": "execute_result"
    }
   ],
   "source": [
    "lr_grid.fit(X_train, y_train)"
   ]
  },
  {
   "cell_type": "markdown",
   "metadata": {},
   "source": [
    "We print the results of the search"
   ]
  },
  {
   "cell_type": "code",
   "execution_count": 52,
   "metadata": {},
   "outputs": [
    {
     "name": "stdout",
     "output_type": "stream",
     "text": [
      "Stored 'lr_best_estimator' (LogisticRegression)\n",
      "best estimator: \n",
      "LogisticRegression(C=0.89484210526315788, class_weight=None, dual=False,\n",
      "          fit_intercept=True, intercept_scaling=1, max_iter=100,\n",
      "          multi_class='ovr', n_jobs=-1, penalty='l1', random_state=56,\n",
      "          solver='liblinear', tol=0.0001, verbose=0, warm_start=False)\n",
      "\n",
      "accuracy_score: \n",
      "0.847659574468\n",
      "\n",
      "best_params: \n",
      "{'C': 0.89484210526315788}\n"
     ]
    }
   ],
   "source": [
    "lr_best_estimator = lr_grid.best_estimator_\n",
    "%store lr_best_estimator\n",
    "print 'best estimator: \\n', lr_grid.best_estimator_\n",
    "\n",
    "print '\\naccuracy_score: \\n', lr_grid.score(X_test, y_test)\n",
    "\n",
    "print '\\nbest_params: \\n', lr_grid.best_params_"
   ]
  },
  {
   "cell_type": "markdown",
   "metadata": {},
   "source": [
    "Let's look at the results table from the grid search to see how different values of C influence our test score"
   ]
  },
  {
   "cell_type": "code",
   "execution_count": 95,
   "metadata": {
    "collapsed": true,
    "scrolled": true
   },
   "outputs": [],
   "source": [
    "lr_results = pd.DataFrame(lr_grid.cv_results_).sort_values(by = 'param_C')"
   ]
  },
  {
   "cell_type": "code",
   "execution_count": 96,
   "metadata": {},
   "outputs": [
    {
     "data": {
      "text/html": [
       "<div>\n",
       "<table border=\"1\" class=\"dataframe\">\n",
       "  <thead>\n",
       "    <tr style=\"text-align: right;\">\n",
       "      <th></th>\n",
       "      <th>mean_fit_time</th>\n",
       "      <th>mean_score_time</th>\n",
       "      <th>mean_test_score</th>\n",
       "      <th>mean_train_score</th>\n",
       "      <th>param_C</th>\n",
       "      <th>params</th>\n",
       "      <th>rank_test_score</th>\n",
       "      <th>split0_test_score</th>\n",
       "      <th>split0_train_score</th>\n",
       "      <th>split1_test_score</th>\n",
       "      <th>split1_train_score</th>\n",
       "      <th>split2_test_score</th>\n",
       "      <th>split2_train_score</th>\n",
       "      <th>split3_test_score</th>\n",
       "      <th>split3_train_score</th>\n",
       "      <th>split4_test_score</th>\n",
       "      <th>split4_train_score</th>\n",
       "      <th>std_fit_time</th>\n",
       "      <th>std_score_time</th>\n",
       "      <th>std_test_score</th>\n",
       "      <th>std_train_score</th>\n",
       "    </tr>\n",
       "  </thead>\n",
       "  <tbody>\n",
       "    <tr>\n",
       "      <th>0</th>\n",
       "      <td>1.077715</td>\n",
       "      <td>0.032888</td>\n",
       "      <td>0.769873</td>\n",
       "      <td>0.769908</td>\n",
       "      <td>0.001</td>\n",
       "      <td>{u'C': 0.001}</td>\n",
       "      <td>20</td>\n",
       "      <td>0.771569</td>\n",
       "      <td>0.769690</td>\n",
       "      <td>0.772120</td>\n",
       "      <td>0.768975</td>\n",
       "      <td>0.770887</td>\n",
       "      <td>0.769370</td>\n",
       "      <td>0.769505</td>\n",
       "      <td>0.770140</td>\n",
       "      <td>0.765285</td>\n",
       "      <td>0.771367</td>\n",
       "      <td>0.165187</td>\n",
       "      <td>0.002832</td>\n",
       "      <td>0.002455</td>\n",
       "      <td>0.000823</td>\n",
       "    </tr>\n",
       "    <tr>\n",
       "      <th>1</th>\n",
       "      <td>6.122800</td>\n",
       "      <td>0.051048</td>\n",
       "      <td>0.842851</td>\n",
       "      <td>0.844265</td>\n",
       "      <td>0.0535789</td>\n",
       "      <td>{u'C': 0.0535789473684}</td>\n",
       "      <td>19</td>\n",
       "      <td>0.844918</td>\n",
       "      <td>0.844258</td>\n",
       "      <td>0.848661</td>\n",
       "      <td>0.844559</td>\n",
       "      <td>0.840732</td>\n",
       "      <td>0.842977</td>\n",
       "      <td>0.843859</td>\n",
       "      <td>0.844353</td>\n",
       "      <td>0.836084</td>\n",
       "      <td>0.845181</td>\n",
       "      <td>1.605197</td>\n",
       "      <td>0.020256</td>\n",
       "      <td>0.004227</td>\n",
       "      <td>0.000720</td>\n",
       "    </tr>\n",
       "    <tr>\n",
       "      <th>2</th>\n",
       "      <td>4.652368</td>\n",
       "      <td>0.029313</td>\n",
       "      <td>0.845365</td>\n",
       "      <td>0.846894</td>\n",
       "      <td>0.106158</td>\n",
       "      <td>{u'C': 0.106157894737}</td>\n",
       "      <td>18</td>\n",
       "      <td>0.843917</td>\n",
       "      <td>0.845729</td>\n",
       "      <td>0.850317</td>\n",
       "      <td>0.846984</td>\n",
       "      <td>0.846120</td>\n",
       "      <td>0.846403</td>\n",
       "      <td>0.846483</td>\n",
       "      <td>0.846974</td>\n",
       "      <td>0.839989</td>\n",
       "      <td>0.848380</td>\n",
       "      <td>1.639288</td>\n",
       "      <td>0.005562</td>\n",
       "      <td>0.003386</td>\n",
       "      <td>0.000874</td>\n",
       "    </tr>\n",
       "  </tbody>\n",
       "</table>\n",
       "</div>"
      ],
      "text/plain": [
       "   mean_fit_time  mean_score_time  mean_test_score  mean_train_score  \\\n",
       "0       1.077715         0.032888         0.769873          0.769908   \n",
       "1       6.122800         0.051048         0.842851          0.844265   \n",
       "2       4.652368         0.029313         0.845365          0.846894   \n",
       "\n",
       "     param_C                   params  rank_test_score  split0_test_score  \\\n",
       "0      0.001            {u'C': 0.001}               20           0.771569   \n",
       "1  0.0535789  {u'C': 0.0535789473684}               19           0.844918   \n",
       "2   0.106158   {u'C': 0.106157894737}               18           0.843917   \n",
       "\n",
       "   split0_train_score  split1_test_score  split1_train_score  \\\n",
       "0            0.769690           0.772120            0.768975   \n",
       "1            0.844258           0.848661            0.844559   \n",
       "2            0.845729           0.850317            0.846984   \n",
       "\n",
       "   split2_test_score  split2_train_score  split3_test_score  \\\n",
       "0           0.770887            0.769370           0.769505   \n",
       "1           0.840732            0.842977           0.843859   \n",
       "2           0.846120            0.846403           0.846483   \n",
       "\n",
       "   split3_train_score  split4_test_score  split4_train_score  std_fit_time  \\\n",
       "0            0.770140           0.765285            0.771367      0.165187   \n",
       "1            0.844353           0.836084            0.845181      1.605197   \n",
       "2            0.846974           0.839989            0.848380      1.639288   \n",
       "\n",
       "   std_score_time  std_test_score  std_train_score  \n",
       "0        0.002832        0.002455         0.000823  \n",
       "1        0.020256        0.004227         0.000720  \n",
       "2        0.005562        0.003386         0.000874  "
      ]
     },
     "execution_count": 96,
     "metadata": {},
     "output_type": "execute_result"
    }
   ],
   "source": [
    "lr_results.head(3)"
   ]
  },
  {
   "cell_type": "code",
   "execution_count": 97,
   "metadata": {},
   "outputs": [
    {
     "name": "stdout",
     "output_type": "stream",
     "text": [
      "Stored 'lr_results' (DataFrame)\n"
     ]
    }
   ],
   "source": [
    "%store lr_results\n"
   ]
  },
  {
   "cell_type": "markdown",
   "metadata": {},
   "source": [
    "Plotting the relationship betweeen C strength and mean_test_score"
   ]
  },
  {
   "cell_type": "code",
   "execution_count": 10,
   "metadata": {
    "collapsed": true
   },
   "outputs": [],
   "source": [
    "%store -r lr_results"
   ]
  },
  {
   "cell_type": "code",
   "execution_count": 12,
   "metadata": {},
   "outputs": [
    {
     "data": {
      "image/png": "[encoded data removed]",
      "text/plain": [
       "<matplotlib.figure.Figure at 0x7f12be885e50>"
      ]
     },
     "metadata": {
      "image/png": {
       "height": 375,
       "width": 536
      }
     },
     "output_type": "display_data"
    }
   ],
   "source": [
    "lr_results.plot(x ='param_C', y = 'mean_test_score');"
   ]
  },
  {
   "cell_type": "code",
   "execution_count": 99,
   "metadata": {},
   "outputs": [
    {
     "data": {
      "text/plain": [
       "0.84326775053458491"
      ]
     },
     "execution_count": 99,
     "metadata": {},
     "output_type": "execute_result"
    }
   ],
   "source": [
    "lr_score = cross_val_score(lr_grid.best_estimator_, X_test, y_test, cv = 10, scoring = 'recall').mean()\n",
    "lr_score"
   ]
  },
  {
   "cell_type": "code",
   "execution_count": 100,
   "metadata": {},
   "outputs": [
    {
     "name": "stdout",
     "output_type": "stream",
     "text": [
      "Stored 'lr_score' (float64)\n"
     ]
    }
   ],
   "source": [
    "%store lr_score"
   ]
  },
  {
   "cell_type": "code",
   "execution_count": null,
   "metadata": {
    "collapsed": true
   },
   "outputs": [],
   "source": [
    "%store -r lr_best_estimator"
   ]
  },
  {
   "cell_type": "code",
   "execution_count": 22,
   "metadata": {},
   "outputs": [
    {
     "data": {
      "text/plain": [
       "LogisticRegression(C=0.89484210526315788, class_weight=None, dual=False,\n",
       "          fit_intercept=True, intercept_scaling=1, max_iter=100,\n",
       "          multi_class='ovr', n_jobs=-1, penalty='l1', random_state=56,\n",
       "          solver='liblinear', tol=0.0001, verbose=0, warm_start=False)"
      ]
     },
     "execution_count": 22,
     "metadata": {},
     "output_type": "execute_result"
    }
   ],
   "source": []
  },
  {
   "cell_type": "code",
   "execution_count": 53,
   "metadata": {
    "collapsed": true
   },
   "outputs": [],
   "source": [
    "lr_coef = pd.DataFrame(lr_best_estimator.coef_, columns = X.columns).T.sort_values(by = 0, ascending = False).rename(columns = {0: 'coef'})"
   ]
  },
  {
   "cell_type": "code",
   "execution_count": 54,
   "metadata": {},
   "outputs": [
    {
     "data": {
      "text/plain": [
       "(994, 1)"
      ]
     },
     "execution_count": 54,
     "metadata": {},
     "output_type": "execute_result"
    }
   ],
   "source": [
    "sns.barplot(x=lr_coef[:10].coef, y=lr_coef[:10].index)"
   ]
  },
  {
   "cell_type": "code",
   "execution_count": 48,
   "metadata": {},
   "outputs": [
    {
     "data": {
      "image/png": "[encoded data removed]",
      "text/plain": [
       "<matplotlib.figure.Figure at 0x7fa12f618cd0>"
      ]
     },
     "metadata": {
      "image/png": {
       "height": 562,
       "width": 602
      }
     },
     "output_type": "display_data"
    }
   ],
   "source": [
    "plot_confusion_matrix(confusion_matrix(y_test, lr_best_estimator.predict(X_test)), np.array([0,1]))"
   ]
  },
  {
   "cell_type": "markdown",
   "metadata": {},
   "source": [
    "### SGD Classifier\n",
    "[Table of Contents](#Table-of-Contents:)"
   ]
  },
  {
   "cell_type": "code",
   "execution_count": 101,
   "metadata": {
    "collapsed": true
   },
   "outputs": [],
   "source": [
    "sgd = SGDClassifier(random_state = 56, n_jobs = -1, n_iter = 200, penalty = 'elasticnet', l1_ratio = 0.01)\n",
    "\n",
    "sgd_params = {\n",
    "\n",
    "    'alpha' : np.logspace(-5,0, 10)\n",
    "    \n",
    "}"
   ]
  },
  {
   "cell_type": "code",
   "execution_count": 102,
   "metadata": {
    "collapsed": true
   },
   "outputs": [],
   "source": [
    "sgd_grid = GridSearchCV(sgd, sgd_params, cv = 5, scoring = 'recall', n_jobs = -1, error_score = 0)"
   ]
  },
  {
   "cell_type": "code",
   "execution_count": 103,
   "metadata": {},
   "outputs": [
    {
     "data": {
      "text/plain": [
       "GridSearchCV(cv=5, error_score=0,\n",
       "       estimator=SGDClassifier(alpha=0.0001, average=False, class_weight=None, epsilon=0.1,\n",
       "       eta0=0.0, fit_intercept=True, l1_ratio=0.01,\n",
       "       learning_rate='optimal', loss='hinge', n_iter=200, n_jobs=-1,\n",
       "       penalty='elasticnet', power_t=0.5, random_state=56, shuffle=True,\n",
       "       verbose=0, warm_start=False),\n",
       "       fit_params={}, iid=True, n_jobs=-1,\n",
       "       param_grid={'alpha': array([  1.00000e-05,   3.59381e-05,   1.29155e-04,   4.64159e-04,\n",
       "         1.66810e-03,   5.99484e-03,   2.15443e-02,   7.74264e-02,\n",
       "         2.78256e-01,   1.00000e+00])},\n",
       "       pre_dispatch='2*n_jobs', refit=True, return_train_score=True,\n",
       "       scoring='precision', verbose=0)"
      ]
     },
     "execution_count": 103,
     "metadata": {},
     "output_type": "execute_result"
    }
   ],
   "source": [
    "sgd_grid.fit(X_train, y_train)"
   ]
  },
  {
   "cell_type": "code",
   "execution_count": 104,
   "metadata": {},
   "outputs": [
    {
     "name": "stdout",
     "output_type": "stream",
     "text": [
      "Stored 'sgd_best_estimator' (SGDClassifier)\n",
      "SGDClassifier(alpha=1.0000000000000001e-05, average=False, class_weight=None,\n",
      "       epsilon=0.1, eta0=0.0, fit_intercept=True, l1_ratio=0.01,\n",
      "       learning_rate='optimal', loss='hinge', n_iter=200, n_jobs=-1,\n",
      "       penalty='elasticnet', power_t=0.5, random_state=56, shuffle=True,\n",
      "       verbose=0, warm_start=False)\n",
      "0.85495906687\n",
      "\n",
      "{'alpha': 1.0000000000000001e-05}\n"
     ]
    }
   ],
   "source": [
    "sgd_best_estimator = sgd_grid.best_estimator_ \n",
    "%store sgd_best_estimator\n",
    "print sgd_grid.best_estimator_\n",
    "print sgd_grid.score(X_test, y_test)\n",
    "print \n",
    "print sgd_grid.best_params_"
   ]
  },
  {
   "cell_type": "code",
   "execution_count": 105,
   "metadata": {
    "collapsed": true
   },
   "outputs": [],
   "source": [
    "sgd_results = pd.DataFrame(sgd_grid.cv_results_).sort_values(by = 'param_alpha')"
   ]
  },
  {
   "cell_type": "code",
   "execution_count": 106,
   "metadata": {},
   "outputs": [
    {
     "data": {
      "text/html": [
       "<div>\n",
       "<table border=\"1\" class=\"dataframe\">\n",
       "  <thead>\n",
       "    <tr style=\"text-align: right;\">\n",
       "      <th></th>\n",
       "      <th>mean_fit_time</th>\n",
       "      <th>mean_score_time</th>\n",
       "      <th>mean_test_score</th>\n",
       "      <th>mean_train_score</th>\n",
       "      <th>param_alpha</th>\n",
       "      <th>params</th>\n",
       "      <th>rank_test_score</th>\n",
       "      <th>split0_test_score</th>\n",
       "      <th>split0_train_score</th>\n",
       "      <th>split1_test_score</th>\n",
       "      <th>split1_train_score</th>\n",
       "      <th>split2_test_score</th>\n",
       "      <th>split2_train_score</th>\n",
       "      <th>split3_test_score</th>\n",
       "      <th>split3_train_score</th>\n",
       "      <th>split4_test_score</th>\n",
       "      <th>split4_train_score</th>\n",
       "      <th>std_fit_time</th>\n",
       "      <th>std_score_time</th>\n",
       "      <th>std_test_score</th>\n",
       "      <th>std_train_score</th>\n",
       "    </tr>\n",
       "  </thead>\n",
       "  <tbody>\n",
       "    <tr>\n",
       "      <th>0</th>\n",
       "      <td>181.859619</td>\n",
       "      <td>0.081561</td>\n",
       "      <td>0.849930</td>\n",
       "      <td>0.854795</td>\n",
       "      <td>1e-05</td>\n",
       "      <td>{u'alpha': 1e-05}</td>\n",
       "      <td>1</td>\n",
       "      <td>0.847991</td>\n",
       "      <td>0.856059</td>\n",
       "      <td>0.859694</td>\n",
       "      <td>0.862529</td>\n",
       "      <td>0.850988</td>\n",
       "      <td>0.852251</td>\n",
       "      <td>0.852345</td>\n",
       "      <td>0.856138</td>\n",
       "      <td>0.838631</td>\n",
       "      <td>0.846997</td>\n",
       "      <td>1.262402</td>\n",
       "      <td>0.015413</td>\n",
       "      <td>0.006837</td>\n",
       "      <td>0.005109</td>\n",
       "    </tr>\n",
       "    <tr>\n",
       "      <th>1</th>\n",
       "      <td>183.291266</td>\n",
       "      <td>0.075476</td>\n",
       "      <td>0.843045</td>\n",
       "      <td>0.847178</td>\n",
       "      <td>3.59381e-05</td>\n",
       "      <td>{u'alpha': 3.5938136638e-05}</td>\n",
       "      <td>6</td>\n",
       "      <td>0.839675</td>\n",
       "      <td>0.845487</td>\n",
       "      <td>0.848988</td>\n",
       "      <td>0.850607</td>\n",
       "      <td>0.841398</td>\n",
       "      <td>0.843323</td>\n",
       "      <td>0.844372</td>\n",
       "      <td>0.848365</td>\n",
       "      <td>0.840792</td>\n",
       "      <td>0.848107</td>\n",
       "      <td>0.999390</td>\n",
       "      <td>0.031034</td>\n",
       "      <td>0.003353</td>\n",
       "      <td>0.002520</td>\n",
       "    </tr>\n",
       "    <tr>\n",
       "      <th>2</th>\n",
       "      <td>181.598375</td>\n",
       "      <td>0.032600</td>\n",
       "      <td>0.843722</td>\n",
       "      <td>0.847044</td>\n",
       "      <td>0.000129155</td>\n",
       "      <td>{u'alpha': 0.000129154966501}</td>\n",
       "      <td>5</td>\n",
       "      <td>0.841501</td>\n",
       "      <td>0.845600</td>\n",
       "      <td>0.848184</td>\n",
       "      <td>0.848509</td>\n",
       "      <td>0.843507</td>\n",
       "      <td>0.845527</td>\n",
       "      <td>0.844519</td>\n",
       "      <td>0.847880</td>\n",
       "      <td>0.840901</td>\n",
       "      <td>0.847704</td>\n",
       "      <td>0.810451</td>\n",
       "      <td>0.003923</td>\n",
       "      <td>0.002588</td>\n",
       "      <td>0.001238</td>\n",
       "    </tr>\n",
       "    <tr>\n",
       "      <th>3</th>\n",
       "      <td>175.556074</td>\n",
       "      <td>0.035524</td>\n",
       "      <td>0.844718</td>\n",
       "      <td>0.846681</td>\n",
       "      <td>0.000464159</td>\n",
       "      <td>{u'alpha': 0.000464158883361}</td>\n",
       "      <td>4</td>\n",
       "      <td>0.842832</td>\n",
       "      <td>0.845447</td>\n",
       "      <td>0.850275</td>\n",
       "      <td>0.848118</td>\n",
       "      <td>0.845029</td>\n",
       "      <td>0.845582</td>\n",
       "      <td>0.845697</td>\n",
       "      <td>0.847022</td>\n",
       "      <td>0.839758</td>\n",
       "      <td>0.847238</td>\n",
       "      <td>2.959432</td>\n",
       "      <td>0.007592</td>\n",
       "      <td>0.003467</td>\n",
       "      <td>0.001022</td>\n",
       "    </tr>\n",
       "    <tr>\n",
       "      <th>4</th>\n",
       "      <td>164.985544</td>\n",
       "      <td>0.034257</td>\n",
       "      <td>0.845138</td>\n",
       "      <td>0.846637</td>\n",
       "      <td>0.0016681</td>\n",
       "      <td>{u'alpha': 0.0016681005372}</td>\n",
       "      <td>3</td>\n",
       "      <td>0.845264</td>\n",
       "      <td>0.845736</td>\n",
       "      <td>0.850600</td>\n",
       "      <td>0.846952</td>\n",
       "      <td>0.844117</td>\n",
       "      <td>0.845878</td>\n",
       "      <td>0.846650</td>\n",
       "      <td>0.847656</td>\n",
       "      <td>0.839060</td>\n",
       "      <td>0.846961</td>\n",
       "      <td>4.214780</td>\n",
       "      <td>0.009658</td>\n",
       "      <td>0.003745</td>\n",
       "      <td>0.000725</td>\n",
       "    </tr>\n",
       "  </tbody>\n",
       "</table>\n",
       "</div>"
      ],
      "text/plain": [
       "   mean_fit_time  mean_score_time  mean_test_score  mean_train_score  \\\n",
       "0     181.859619         0.081561         0.849930          0.854795   \n",
       "1     183.291266         0.075476         0.843045          0.847178   \n",
       "2     181.598375         0.032600         0.843722          0.847044   \n",
       "3     175.556074         0.035524         0.844718          0.846681   \n",
       "4     164.985544         0.034257         0.845138          0.846637   \n",
       "\n",
       "   param_alpha                         params  rank_test_score  \\\n",
       "0        1e-05              {u'alpha': 1e-05}                1   \n",
       "1  3.59381e-05   {u'alpha': 3.5938136638e-05}                6   \n",
       "2  0.000129155  {u'alpha': 0.000129154966501}                5   \n",
       "3  0.000464159  {u'alpha': 0.000464158883361}                4   \n",
       "4    0.0016681    {u'alpha': 0.0016681005372}                3   \n",
       "\n",
       "   split0_test_score  split0_train_score  split1_test_score  \\\n",
       "0           0.847991            0.856059           0.859694   \n",
       "1           0.839675            0.845487           0.848988   \n",
       "2           0.841501            0.845600           0.848184   \n",
       "3           0.842832            0.845447           0.850275   \n",
       "4           0.845264            0.845736           0.850600   \n",
       "\n",
       "   split1_train_score  split2_test_score  split2_train_score  \\\n",
       "0            0.862529           0.850988            0.852251   \n",
       "1            0.850607           0.841398            0.843323   \n",
       "2            0.848509           0.843507            0.845527   \n",
       "3            0.848118           0.845029            0.845582   \n",
       "4            0.846952           0.844117            0.845878   \n",
       "\n",
       "   split3_test_score  split3_train_score  split4_test_score  \\\n",
       "0           0.852345            0.856138           0.838631   \n",
       "1           0.844372            0.848365           0.840792   \n",
       "2           0.844519            0.847880           0.840901   \n",
       "3           0.845697            0.847022           0.839758   \n",
       "4           0.846650            0.847656           0.839060   \n",
       "\n",
       "   split4_train_score  std_fit_time  std_score_time  std_test_score  \\\n",
       "0            0.846997      1.262402        0.015413        0.006837   \n",
       "1            0.848107      0.999390        0.031034        0.003353   \n",
       "2            0.847704      0.810451        0.003923        0.002588   \n",
       "3            0.847238      2.959432        0.007592        0.003467   \n",
       "4            0.846961      4.214780        0.009658        0.003745   \n",
       "\n",
       "   std_train_score  \n",
       "0         0.005109  \n",
       "1         0.002520  \n",
       "2         0.001238  \n",
       "3         0.001022  \n",
       "4         0.000725  "
      ]
     },
     "execution_count": 106,
     "metadata": {},
     "output_type": "execute_result"
    }
   ],
   "source": [
    "sgd_results.head()"
   ]
  },
  {
   "cell_type": "code",
   "execution_count": 107,
   "metadata": {},
   "outputs": [
    {
     "data": {
      "image/png": "[encoded data removed]",
      "text/plain": [
       "<matplotlib.figure.Figure at 0x7f2dbcbb8a10>"
      ]
     },
     "metadata": {
      "image/png": {
       "height": 384,
       "width": 538
      }
     },
     "output_type": "display_data"
    }
   ],
   "source": [
    "sgd_results.plot(x= 'param_alpha', y = 'mean_test_score', logx=True);"
   ]
  },
  {
   "cell_type": "code",
   "execution_count": 108,
   "metadata": {},
   "outputs": [
    {
     "data": {
      "text/plain": [
       "0.84267225981414207"
      ]
     },
     "execution_count": 108,
     "metadata": {},
     "output_type": "execute_result"
    }
   ],
   "source": [
    "sgd_score = cross_val_score(sgd_grid.best_estimator_, X_test, y_test, cv = 10, scoring = 'recall', n_jobs = -1).mean()\n",
    "sgd_score"
   ]
  },
  {
   "cell_type": "code",
   "execution_count": 109,
   "metadata": {},
   "outputs": [
    {
     "name": "stdout",
     "output_type": "stream",
     "text": [
      "Stored 'sgd_results' (DataFrame)\n",
      "Stored 'sgd_results' (DataFrame)\n"
     ]
    }
   ],
   "source": [
    "%store sgd_results\n",
    "%store sgd_results"
   ]
  },
  {
   "cell_type": "markdown",
   "metadata": {},
   "source": [
    "### Linear SVC\n",
    "[Table of Contents](#Table-of-Contents:)"
   ]
  },
  {
   "cell_type": "markdown",
   "metadata": {},
   "source": [
    "Support Vector Machines can be very useful as they allow classification of non-linearly seperable data.\n",
    "\n",
    "Here is an example of linearly and non-linearly seperable data"
   ]
  },
  {
   "cell_type": "markdown",
   "metadata": {},
   "source": [
    "![SVM Example](/Assets/SVM-example.png)"
   ]
  },
  {
   "cell_type": "markdown",
   "metadata": {},
   "source": [
    "Given the size of our dataset, we are constrained to the LinearSVC, which is a liblinear (large linear classification) implementation of the traditional SVC\n"
   ]
  },
  {
   "cell_type": "code",
   "execution_count": null,
   "metadata": {
    "collapsed": true
   },
   "outputs": [],
   "source": []
  },
  {
   "cell_type": "code",
   "execution_count": 110,
   "metadata": {
    "collapsed": true
   },
   "outputs": [],
   "source": [
    "svm = LinearSVC(random_state = 56, penalty = 'l1', dual = False)\n",
    "svm_params = {\n",
    "    \n",
    "    'C': np.linspace(0.001, 10, 15),\n",
    "    \n",
    "}"
   ]
  },
  {
   "cell_type": "code",
   "execution_count": 111,
   "metadata": {
    "collapsed": true
   },
   "outputs": [],
   "source": [
    "svm_grid = GridSearchCV(svm, svm_params, cv = 5, scoring = 'recall', n_jobs = -1, error_score = 0)"
   ]
  },
  {
   "cell_type": "code",
   "execution_count": 112,
   "metadata": {},
   "outputs": [
    {
     "data": {
      "text/plain": [
       "GridSearchCV(cv=5, error_score=0,\n",
       "       estimator=LinearSVC(C=1.0, class_weight=None, dual=False, fit_intercept=True,\n",
       "     intercept_scaling=1, loss='squared_hinge', max_iter=1000,\n",
       "     multi_class='ovr', penalty='l1', random_state=56, tol=0.0001,\n",
       "     verbose=0),\n",
       "       fit_params={}, iid=True, n_jobs=-1,\n",
       "       param_grid={'C': array([  1.00000e-03,   7.15214e-01,   1.42943e+00,   2.14364e+00,\n",
       "         2.85786e+00,   3.57207e+00,   4.28629e+00,   5.00050e+00,\n",
       "         5.71471e+00,   6.42893e+00,   7.14314e+00,   7.85736e+00,\n",
       "         8.57157e+00,   9.28579e+00,   1.00000e+01])},\n",
       "       pre_dispatch='2*n_jobs', refit=True, return_train_score=True,\n",
       "       scoring='precision', verbose=0)"
      ]
     },
     "execution_count": 112,
     "metadata": {},
     "output_type": "execute_result"
    }
   ],
   "source": [
    "warnings.filterwarnings('ignore')\n",
    "\n",
    "svm_grid.fit(X_train, y_train)"
   ]
  },
  {
   "cell_type": "code",
   "execution_count": 113,
   "metadata": {
    "collapsed": true
   },
   "outputs": [],
   "source": [
    "warnings.filterwarnings('default')"
   ]
  },
  {
   "cell_type": "code",
   "execution_count": 116,
   "metadata": {},
   "outputs": [
    {
     "name": "stdout",
     "output_type": "stream",
     "text": [
      "Stored 'svm_best_estimator' (LinearSVC)\n",
      "LinearSVC(C=5.0005000000000006, class_weight=None, dual=False,\n",
      "     fit_intercept=True, intercept_scaling=1, loss='squared_hinge',\n",
      "     max_iter=1000, multi_class='ovr', penalty='l1', random_state=56,\n",
      "     tol=0.0001, verbose=0)\n",
      "\n",
      "0.846463932107\n",
      "{'C': 5.0005000000000006}\n"
     ]
    }
   ],
   "source": [
    "svm_best_estimator = svm_grid.best_estimator_\n",
    "%store svm_best_estimator\n",
    "print svm_grid.best_estimator_\n",
    "print\n",
    "print svm_grid.score(X_test, y_test)\n",
    "\n",
    "print svm_grid.best_params_"
   ]
  },
  {
   "cell_type": "code",
   "execution_count": 117,
   "metadata": {
    "collapsed": true
   },
   "outputs": [],
   "source": [
    "svm_results = pd.DataFrame(svm_grid.cv_results_).sort_values(by = 'param_C')"
   ]
  },
  {
   "cell_type": "code",
   "execution_count": 118,
   "metadata": {},
   "outputs": [
    {
     "data": {
      "text/html": [
       "<div>\n",
       "<table border=\"1\" class=\"dataframe\">\n",
       "  <thead>\n",
       "    <tr style=\"text-align: right;\">\n",
       "      <th></th>\n",
       "      <th>mean_fit_time</th>\n",
       "      <th>mean_score_time</th>\n",
       "      <th>mean_test_score</th>\n",
       "      <th>mean_train_score</th>\n",
       "      <th>param_C</th>\n",
       "      <th>params</th>\n",
       "      <th>rank_test_score</th>\n",
       "      <th>split0_test_score</th>\n",
       "      <th>split0_train_score</th>\n",
       "      <th>split1_test_score</th>\n",
       "      <th>split1_train_score</th>\n",
       "      <th>split2_test_score</th>\n",
       "      <th>split2_train_score</th>\n",
       "      <th>split3_test_score</th>\n",
       "      <th>split3_train_score</th>\n",
       "      <th>split4_test_score</th>\n",
       "      <th>split4_train_score</th>\n",
       "      <th>std_fit_time</th>\n",
       "      <th>std_score_time</th>\n",
       "      <th>std_test_score</th>\n",
       "      <th>std_train_score</th>\n",
       "    </tr>\n",
       "  </thead>\n",
       "  <tbody>\n",
       "    <tr>\n",
       "      <th>0</th>\n",
       "      <td>1.407629</td>\n",
       "      <td>0.030915</td>\n",
       "      <td>0.818368</td>\n",
       "      <td>0.818514</td>\n",
       "      <td>0.001</td>\n",
       "      <td>{u'C': 0.001}</td>\n",
       "      <td>15</td>\n",
       "      <td>0.821198</td>\n",
       "      <td>0.818366</td>\n",
       "      <td>0.822685</td>\n",
       "      <td>0.817674</td>\n",
       "      <td>0.815955</td>\n",
       "      <td>0.818068</td>\n",
       "      <td>0.817462</td>\n",
       "      <td>0.818703</td>\n",
       "      <td>0.814539</td>\n",
       "      <td>0.819761</td>\n",
       "      <td>0.294252</td>\n",
       "      <td>0.001795</td>\n",
       "      <td>0.003097</td>\n",
       "      <td>0.000710</td>\n",
       "    </tr>\n",
       "    <tr>\n",
       "      <th>1</th>\n",
       "      <td>8.886269</td>\n",
       "      <td>0.066296</td>\n",
       "      <td>0.845849</td>\n",
       "      <td>0.850192</td>\n",
       "      <td>0.715214</td>\n",
       "      <td>{u'C': 0.715214285714}</td>\n",
       "      <td>2</td>\n",
       "      <td>0.845773</td>\n",
       "      <td>0.850025</td>\n",
       "      <td>0.849438</td>\n",
       "      <td>0.849204</td>\n",
       "      <td>0.846702</td>\n",
       "      <td>0.849287</td>\n",
       "      <td>0.846229</td>\n",
       "      <td>0.851309</td>\n",
       "      <td>0.841101</td>\n",
       "      <td>0.851136</td>\n",
       "      <td>1.166091</td>\n",
       "      <td>0.026902</td>\n",
       "      <td>0.002694</td>\n",
       "      <td>0.000890</td>\n",
       "    </tr>\n",
       "    <tr>\n",
       "      <th>2</th>\n",
       "      <td>10.249137</td>\n",
       "      <td>0.036077</td>\n",
       "      <td>0.845819</td>\n",
       "      <td>0.850603</td>\n",
       "      <td>1.42943</td>\n",
       "      <td>{u'C': 1.42942857143}</td>\n",
       "      <td>3</td>\n",
       "      <td>0.845950</td>\n",
       "      <td>0.850454</td>\n",
       "      <td>0.849521</td>\n",
       "      <td>0.849292</td>\n",
       "      <td>0.846913</td>\n",
       "      <td>0.849821</td>\n",
       "      <td>0.845717</td>\n",
       "      <td>0.851981</td>\n",
       "      <td>0.840995</td>\n",
       "      <td>0.851469</td>\n",
       "      <td>0.332924</td>\n",
       "      <td>0.007440</td>\n",
       "      <td>0.002764</td>\n",
       "      <td>0.001000</td>\n",
       "    </tr>\n",
       "    <tr>\n",
       "      <th>3</th>\n",
       "      <td>9.991350</td>\n",
       "      <td>0.032085</td>\n",
       "      <td>0.845658</td>\n",
       "      <td>0.850796</td>\n",
       "      <td>2.14364</td>\n",
       "      <td>{u'C': 2.14364285714}</td>\n",
       "      <td>13</td>\n",
       "      <td>0.845324</td>\n",
       "      <td>0.850706</td>\n",
       "      <td>0.849022</td>\n",
       "      <td>0.849505</td>\n",
       "      <td>0.847774</td>\n",
       "      <td>0.850352</td>\n",
       "      <td>0.845219</td>\n",
       "      <td>0.852020</td>\n",
       "      <td>0.840949</td>\n",
       "      <td>0.851397</td>\n",
       "      <td>0.319044</td>\n",
       "      <td>0.005933</td>\n",
       "      <td>0.002767</td>\n",
       "      <td>0.000864</td>\n",
       "    </tr>\n",
       "    <tr>\n",
       "      <th>4</th>\n",
       "      <td>10.441216</td>\n",
       "      <td>0.032340</td>\n",
       "      <td>0.845697</td>\n",
       "      <td>0.850803</td>\n",
       "      <td>2.85786</td>\n",
       "      <td>{u'C': 2.85785714286}</td>\n",
       "      <td>10</td>\n",
       "      <td>0.845637</td>\n",
       "      <td>0.850800</td>\n",
       "      <td>0.849645</td>\n",
       "      <td>0.849574</td>\n",
       "      <td>0.847028</td>\n",
       "      <td>0.850103</td>\n",
       "      <td>0.845042</td>\n",
       "      <td>0.852129</td>\n",
       "      <td>0.841135</td>\n",
       "      <td>0.851410</td>\n",
       "      <td>0.347741</td>\n",
       "      <td>0.004923</td>\n",
       "      <td>0.002779</td>\n",
       "      <td>0.000908</td>\n",
       "    </tr>\n",
       "  </tbody>\n",
       "</table>\n",
       "</div>"
      ],
      "text/plain": [
       "   mean_fit_time  mean_score_time  mean_test_score  mean_train_score  \\\n",
       "0       1.407629         0.030915         0.818368          0.818514   \n",
       "1       8.886269         0.066296         0.845849          0.850192   \n",
       "2      10.249137         0.036077         0.845819          0.850603   \n",
       "3       9.991350         0.032085         0.845658          0.850796   \n",
       "4      10.441216         0.032340         0.845697          0.850803   \n",
       "\n",
       "    param_C                  params  rank_test_score  split0_test_score  \\\n",
       "0     0.001           {u'C': 0.001}               15           0.821198   \n",
       "1  0.715214  {u'C': 0.715214285714}                2           0.845773   \n",
       "2   1.42943   {u'C': 1.42942857143}                3           0.845950   \n",
       "3   2.14364   {u'C': 2.14364285714}               13           0.845324   \n",
       "4   2.85786   {u'C': 2.85785714286}               10           0.845637   \n",
       "\n",
       "   split0_train_score  split1_test_score  split1_train_score  \\\n",
       "0            0.818366           0.822685            0.817674   \n",
       "1            0.850025           0.849438            0.849204   \n",
       "2            0.850454           0.849521            0.849292   \n",
       "3            0.850706           0.849022            0.849505   \n",
       "4            0.850800           0.849645            0.849574   \n",
       "\n",
       "   split2_test_score  split2_train_score  split3_test_score  \\\n",
       "0           0.815955            0.818068           0.817462   \n",
       "1           0.846702            0.849287           0.846229   \n",
       "2           0.846913            0.849821           0.845717   \n",
       "3           0.847774            0.850352           0.845219   \n",
       "4           0.847028            0.850103           0.845042   \n",
       "\n",
       "   split3_train_score  split4_test_score  split4_train_score  std_fit_time  \\\n",
       "0            0.818703           0.814539            0.819761      0.294252   \n",
       "1            0.851309           0.841101            0.851136      1.166091   \n",
       "2            0.851981           0.840995            0.851469      0.332924   \n",
       "3            0.852020           0.840949            0.851397      0.319044   \n",
       "4            0.852129           0.841135            0.851410      0.347741   \n",
       "\n",
       "   std_score_time  std_test_score  std_train_score  \n",
       "0        0.001795        0.003097         0.000710  \n",
       "1        0.026902        0.002694         0.000890  \n",
       "2        0.007440        0.002764         0.001000  \n",
       "3        0.005933        0.002767         0.000864  \n",
       "4        0.004923        0.002779         0.000908  "
      ]
     },
     "execution_count": 118,
     "metadata": {},
     "output_type": "execute_result"
    }
   ],
   "source": [
    "svm_results.head()"
   ]
  },
  {
   "cell_type": "code",
   "execution_count": 119,
   "metadata": {},
   "outputs": [
    {
     "data": {
      "image/png": "[encoded data removed]",
      "text/plain": [
       "<matplotlib.figure.Figure at 0x7f2dbce0f050>"
      ]
     },
     "metadata": {
      "image/png": {
       "height": 382,
       "width": 543
      }
     },
     "output_type": "display_data"
    }
   ],
   "source": [
    "svm_results.plot(x = 'param_C', y = 'mean_test_score');"
   ]
  },
  {
   "cell_type": "code",
   "execution_count": 120,
   "metadata": {},
   "outputs": [
    {
     "data": {
      "text/plain": [
       "0.84089340233171517"
      ]
     },
     "execution_count": 120,
     "metadata": {},
     "output_type": "execute_result"
    }
   ],
   "source": [
    "svm_score = cross_val_score(svm_grid.best_estimator_, X_test, y_test, scoring = 'recall', cv = 10, n_jobs = -1).mean()\n",
    "svm_score"
   ]
  },
  {
   "cell_type": "code",
   "execution_count": 121,
   "metadata": {},
   "outputs": [
    {
     "name": "stdout",
     "output_type": "stream",
     "text": [
      "Stored 'svm_score' (float64)\n",
      "Stored 'svm_results' (DataFrame)\n"
     ]
    }
   ],
   "source": [
    "%store svm_score\n",
    "%store svm_results"
   ]
  },
  {
   "cell_type": "code",
   "execution_count": 148,
   "metadata": {
    "collapsed": true
   },
   "outputs": [],
   "source": [
    "test = pd.DataFrame(svm_best_estimator.coef_, columns = X.columns).T.sort_values(by = 0, ascending = False)"
   ]
  },
  {
   "cell_type": "code",
   "execution_count": 1,
   "metadata": {},
   "outputs": [
    {
     "ename": "NameError",
     "evalue": "name 'test' is not defined",
     "output_type": "error",
     "traceback": [
      "\u001b[0;31m---------------------------------------------------------------------------\u001b[0m",
      "\u001b[0;31mNameError\u001b[0m                                 Traceback (most recent call last)",
      "\u001b[0;32m<ipython-input-1-079413d30063>\u001b[0m in \u001b[0;36m<module>\u001b[0;34m()\u001b[0m\n\u001b[0;32m----> 1\u001b[0;31m \u001b[0mtest\u001b[0m\u001b[0;34m.\u001b[0m\u001b[0mhead\u001b[0m\u001b[0;34m(\u001b[0m\u001b[0;34m)\u001b[0m\u001b[0;34m\u001b[0m\u001b[0m\n\u001b[0m",
      "\u001b[0;31mNameError\u001b[0m: name 'test' is not defined"
     ]
    }
   ],
   "source": [
    "test.head()"
   ]
  },
  {
   "cell_type": "markdown",
   "metadata": {},
   "source": [
    "### Random Forest Classifier\n",
    "[Table of Contents](#Table-of-Contents:)"
   ]
  },
  {
   "cell_type": "code",
   "execution_count": 122,
   "metadata": {
    "collapsed": true
   },
   "outputs": [],
   "source": [
    "rf = RandomForestClassifier(random_state = 56, n_jobs = -1, n_estimators= 300)\n",
    "\n",
    "rf_params = {\n",
    "    \n",
    "#     'n_estimators' : [200, 400],\n",
    "    'criterion': ['gini','entropy'],\n",
    "    'max_features' : ['auto', 'sqrt'],\n",
    "    \n",
    "    \n",
    "}"
   ]
  },
  {
   "cell_type": "code",
   "execution_count": 123,
   "metadata": {
    "collapsed": true
   },
   "outputs": [],
   "source": [
    "rf_grid = GridSearchCV(rf, rf_params, scoring = 'recall', cv = 5, n_jobs = -1, error_score= 0)"
   ]
  },
  {
   "cell_type": "code",
   "execution_count": 124,
   "metadata": {},
   "outputs": [
    {
     "data": {
      "text/plain": [
       "GridSearchCV(cv=5, error_score=0,\n",
       "       estimator=RandomForestClassifier(bootstrap=True, class_weight=None, criterion='gini',\n",
       "            max_depth=None, max_features='auto', max_leaf_nodes=None,\n",
       "            min_impurity_split=1e-07, min_samples_leaf=1,\n",
       "            min_samples_split=2, min_weight_fraction_leaf=0.0,\n",
       "            n_estimators=300, n_jobs=-1, oob_score=False, random_state=56,\n",
       "            verbose=0, warm_start=False),\n",
       "       fit_params={}, iid=True, n_jobs=-1,\n",
       "       param_grid={'max_features': ['auto', 'sqrt'], 'criterion': ['gini', 'entropy']},\n",
       "       pre_dispatch='2*n_jobs', refit=True, return_train_score=True,\n",
       "       scoring='precision', verbose=0)"
      ]
     },
     "execution_count": 124,
     "metadata": {},
     "output_type": "execute_result"
    }
   ],
   "source": [
    "rf_grid.fit(X_train, y_train)"
   ]
  },
  {
   "cell_type": "code",
   "execution_count": 125,
   "metadata": {},
   "outputs": [
    {
     "name": "stdout",
     "output_type": "stream",
     "text": [
      "RandomForestClassifier(bootstrap=True, class_weight=None, criterion='entropy',\n",
      "            max_depth=None, max_features='auto', max_leaf_nodes=None,\n",
      "            min_impurity_split=1e-07, min_samples_leaf=1,\n",
      "            min_samples_split=2, min_weight_fraction_leaf=0.0,\n",
      "            n_estimators=300, n_jobs=-1, oob_score=False, random_state=56,\n",
      "            verbose=0, warm_start=False)\n",
      "\n",
      "0.869305074971\n",
      "\n",
      "{'max_features': 'auto', 'criterion': 'entropy'}\n"
     ]
    }
   ],
   "source": [
    "rf_best_estimator =rf_grid.best_estimator_\n",
    "print rf_grid.best_estimator_\n",
    "print\n",
    "print rf_grid.score(X_test, y_test)\n",
    "print\n",
    "print rf_grid.best_params_"
   ]
  },
  {
   "cell_type": "code",
   "execution_count": 126,
   "metadata": {
    "collapsed": true
   },
   "outputs": [],
   "source": [
    "rf_results = pd.DataFrame(rf_grid.cv_results_).sort_values(by = 'rank_test_score')"
   ]
  },
  {
   "cell_type": "code",
   "execution_count": 127,
   "metadata": {},
   "outputs": [
    {
     "data": {
      "text/html": [
       "<div>\n",
       "<table border=\"1\" class=\"dataframe\">\n",
       "  <thead>\n",
       "    <tr style=\"text-align: right;\">\n",
       "      <th></th>\n",
       "      <th>mean_fit_time</th>\n",
       "      <th>mean_score_time</th>\n",
       "      <th>mean_test_score</th>\n",
       "      <th>mean_train_score</th>\n",
       "      <th>param_criterion</th>\n",
       "      <th>param_max_features</th>\n",
       "      <th>params</th>\n",
       "      <th>rank_test_score</th>\n",
       "      <th>split0_test_score</th>\n",
       "      <th>split0_train_score</th>\n",
       "      <th>split1_test_score</th>\n",
       "      <th>split1_train_score</th>\n",
       "      <th>split2_test_score</th>\n",
       "      <th>split2_train_score</th>\n",
       "      <th>split3_test_score</th>\n",
       "      <th>split3_train_score</th>\n",
       "      <th>split4_test_score</th>\n",
       "      <th>split4_train_score</th>\n",
       "      <th>std_fit_time</th>\n",
       "      <th>std_score_time</th>\n",
       "      <th>std_test_score</th>\n",
       "      <th>std_train_score</th>\n",
       "    </tr>\n",
       "  </thead>\n",
       "  <tbody>\n",
       "    <tr>\n",
       "      <th>2</th>\n",
       "      <td>519.183525</td>\n",
       "      <td>6.761307</td>\n",
       "      <td>0.868006</td>\n",
       "      <td>0.955898</td>\n",
       "      <td>entropy</td>\n",
       "      <td>auto</td>\n",
       "      <td>{u'max_features': u'auto', u'criterion': u'ent...</td>\n",
       "      <td>1</td>\n",
       "      <td>0.869648</td>\n",
       "      <td>0.955615</td>\n",
       "      <td>0.871029</td>\n",
       "      <td>0.957601</td>\n",
       "      <td>0.863771</td>\n",
       "      <td>0.954861</td>\n",
       "      <td>0.869163</td>\n",
       "      <td>0.956010</td>\n",
       "      <td>0.866421</td>\n",
       "      <td>0.955404</td>\n",
       "      <td>5.169726</td>\n",
       "      <td>0.108057</td>\n",
       "      <td>0.002593</td>\n",
       "      <td>0.000929</td>\n",
       "    </tr>\n",
       "    <tr>\n",
       "      <th>3</th>\n",
       "      <td>334.936704</td>\n",
       "      <td>4.178426</td>\n",
       "      <td>0.868006</td>\n",
       "      <td>0.955898</td>\n",
       "      <td>entropy</td>\n",
       "      <td>sqrt</td>\n",
       "      <td>{u'max_features': u'sqrt', u'criterion': u'ent...</td>\n",
       "      <td>1</td>\n",
       "      <td>0.869648</td>\n",
       "      <td>0.955615</td>\n",
       "      <td>0.871029</td>\n",
       "      <td>0.957601</td>\n",
       "      <td>0.863771</td>\n",
       "      <td>0.954861</td>\n",
       "      <td>0.869163</td>\n",
       "      <td>0.956010</td>\n",
       "      <td>0.866421</td>\n",
       "      <td>0.955404</td>\n",
       "      <td>99.126003</td>\n",
       "      <td>0.919007</td>\n",
       "      <td>0.002593</td>\n",
       "      <td>0.000929</td>\n",
       "    </tr>\n",
       "    <tr>\n",
       "      <th>0</th>\n",
       "      <td>516.088946</td>\n",
       "      <td>6.691405</td>\n",
       "      <td>0.867604</td>\n",
       "      <td>0.955836</td>\n",
       "      <td>gini</td>\n",
       "      <td>auto</td>\n",
       "      <td>{u'max_features': u'auto', u'criterion': u'gini'}</td>\n",
       "      <td>3</td>\n",
       "      <td>0.868855</td>\n",
       "      <td>0.955595</td>\n",
       "      <td>0.870669</td>\n",
       "      <td>0.957518</td>\n",
       "      <td>0.862960</td>\n",
       "      <td>0.954820</td>\n",
       "      <td>0.869471</td>\n",
       "      <td>0.955989</td>\n",
       "      <td>0.866066</td>\n",
       "      <td>0.955260</td>\n",
       "      <td>10.721254</td>\n",
       "      <td>0.893069</td>\n",
       "      <td>0.002771</td>\n",
       "      <td>0.000925</td>\n",
       "    </tr>\n",
       "    <tr>\n",
       "      <th>1</th>\n",
       "      <td>505.312468</td>\n",
       "      <td>6.878784</td>\n",
       "      <td>0.867604</td>\n",
       "      <td>0.955836</td>\n",
       "      <td>gini</td>\n",
       "      <td>sqrt</td>\n",
       "      <td>{u'max_features': u'sqrt', u'criterion': u'gini'}</td>\n",
       "      <td>3</td>\n",
       "      <td>0.868855</td>\n",
       "      <td>0.955595</td>\n",
       "      <td>0.870669</td>\n",
       "      <td>0.957518</td>\n",
       "      <td>0.862960</td>\n",
       "      <td>0.954820</td>\n",
       "      <td>0.869471</td>\n",
       "      <td>0.955989</td>\n",
       "      <td>0.866066</td>\n",
       "      <td>0.955260</td>\n",
       "      <td>4.154422</td>\n",
       "      <td>0.922897</td>\n",
       "      <td>0.002771</td>\n",
       "      <td>0.000925</td>\n",
       "    </tr>\n",
       "  </tbody>\n",
       "</table>\n",
       "</div>"
      ],
      "text/plain": [
       "   mean_fit_time  mean_score_time  mean_test_score  mean_train_score  \\\n",
       "2     519.183525         6.761307         0.868006          0.955898   \n",
       "3     334.936704         4.178426         0.868006          0.955898   \n",
       "0     516.088946         6.691405         0.867604          0.955836   \n",
       "1     505.312468         6.878784         0.867604          0.955836   \n",
       "\n",
       "  param_criterion param_max_features  \\\n",
       "2         entropy               auto   \n",
       "3         entropy               sqrt   \n",
       "0            gini               auto   \n",
       "1            gini               sqrt   \n",
       "\n",
       "                                              params  rank_test_score  \\\n",
       "2  {u'max_features': u'auto', u'criterion': u'ent...                1   \n",
       "3  {u'max_features': u'sqrt', u'criterion': u'ent...                1   \n",
       "0  {u'max_features': u'auto', u'criterion': u'gini'}                3   \n",
       "1  {u'max_features': u'sqrt', u'criterion': u'gini'}                3   \n",
       "\n",
       "   split0_test_score  split0_train_score  split1_test_score  \\\n",
       "2           0.869648            0.955615           0.871029   \n",
       "3           0.869648            0.955615           0.871029   \n",
       "0           0.868855            0.955595           0.870669   \n",
       "1           0.868855            0.955595           0.870669   \n",
       "\n",
       "   split1_train_score  split2_test_score  split2_train_score  \\\n",
       "2            0.957601           0.863771            0.954861   \n",
       "3            0.957601           0.863771            0.954861   \n",
       "0            0.957518           0.862960            0.954820   \n",
       "1            0.957518           0.862960            0.954820   \n",
       "\n",
       "   split3_test_score  split3_train_score  split4_test_score  \\\n",
       "2           0.869163            0.956010           0.866421   \n",
       "3           0.869163            0.956010           0.866421   \n",
       "0           0.869471            0.955989           0.866066   \n",
       "1           0.869471            0.955989           0.866066   \n",
       "\n",
       "   split4_train_score  std_fit_time  std_score_time  std_test_score  \\\n",
       "2            0.955404      5.169726        0.108057        0.002593   \n",
       "3            0.955404     99.126003        0.919007        0.002593   \n",
       "0            0.955260     10.721254        0.893069        0.002771   \n",
       "1            0.955260      4.154422        0.922897        0.002771   \n",
       "\n",
       "   std_train_score  \n",
       "2         0.000929  \n",
       "3         0.000929  \n",
       "0         0.000925  \n",
       "1         0.000925  "
      ]
     },
     "execution_count": 127,
     "metadata": {},
     "output_type": "execute_result"
    }
   ],
   "source": [
    "rf_results.head()"
   ]
  },
  {
   "cell_type": "code",
   "execution_count": 39,
   "metadata": {},
   "outputs": [
    {
     "data": {
      "image/png": "[encoded data removed]",
      "text/plain": [
       "<matplotlib.figure.Figure at 0x7f23cb5a2690>"
      ]
     },
     "metadata": {
      "image/png": {
       "height": 566,
       "width": 602
      }
     },
     "output_type": "display_data"
    }
   ],
   "source": [
    "plot_confusion_matrix(confusion_matrix(y_test, rf_best_estimator.predict(X_test)), np.array([0,1]))"
   ]
  },
  {
   "cell_type": "code",
   "execution_count": 128,
   "metadata": {},
   "outputs": [
    {
     "name": "stdout",
     "output_type": "stream",
     "text": [
      "Stored 'rf_results' (DataFrame)\n",
      "Stored 'rf_best_estimator' (RandomForestClassifier)\n"
     ]
    }
   ],
   "source": [
    "%store rf_results\n",
    "%store rf_best_estimator"
   ]
  },
  {
   "cell_type": "code",
   "execution_count": null,
   "metadata": {
    "collapsed": true
   },
   "outputs": [],
   "source": []
  },
  {
   "cell_type": "code",
   "execution_count": 129,
   "metadata": {},
   "outputs": [
    {
     "data": {
      "text/plain": [
       "0.85710074739070863"
      ]
     },
     "execution_count": 129,
     "metadata": {},
     "output_type": "execute_result"
    }
   ],
   "source": [
    "rf_score = cross_val_score(rf_grid.best_estimator_, X_test, y_test, cv = 10, scoring = 'recall', n_jobs = -1).mean()\n",
    "rf_score"
   ]
  },
  {
   "cell_type": "code",
   "execution_count": 21,
   "metadata": {
    "collapsed": true
   },
   "outputs": [],
   "source": [
    "%store -r rf_best_estimator"
   ]
  },
  {
   "cell_type": "markdown",
   "metadata": {
    "collapsed": true
   },
   "source": [
    "### Multi-Layer Perceptron\n",
    "[Table of Contents](#Table-of-Contents:)"
   ]
  },
  {
   "cell_type": "code",
   "execution_count": 134,
   "metadata": {
    "collapsed": true
   },
   "outputs": [],
   "source": [
    "mlp = MLPClassifier(\n",
    "\n",
    "    hidden_layer_sizes= (40,), \n",
    "    activation = 'logistic',\n",
    "    learning_rate = 'adaptive',\n",
    "    learning_rate_init = 0.2,\n",
    "    random_state = 56,\n",
    "    max_iter = 500,    \n",
    "    \n",
    ")\n",
    "\n",
    "                                \n",
    "                   \n",
    "                   \n",
    "\n",
    "mlp_params = {\n",
    "#     'hidden_layer_sizes' : [10, 20, 30, 40, 50],\n",
    "    'alpha' : np.logspace(-5,1,10),\n",
    "    'solver' : ['adam', 'sgd'],\n",
    "#     'solver' : ['adam','sgd'],\n",
    "#     'learning_rate_init' : [0.2, 0.0001],\n",
    "       \n",
    "    }\n",
    "\n",
    "\n",
    "\n",
    "\n"
   ]
  },
  {
   "cell_type": "code",
   "execution_count": 135,
   "metadata": {
    "collapsed": true
   },
   "outputs": [],
   "source": [
    "mlp_grid = GridSearchCV(mlp, mlp_params, scoring = 'recall', cv = 5, n_jobs = -1, error_score= 0)"
   ]
  },
  {
   "cell_type": "code",
   "execution_count": 136,
   "metadata": {},
   "outputs": [
    {
     "data": {
      "text/plain": [
       "GridSearchCV(cv=5, error_score=0,\n",
       "       estimator=MLPClassifier(activation='logistic', alpha=0.0001, batch_size='auto',\n",
       "       beta_1=0.9, beta_2=0.999, early_stopping=False, epsilon=1e-08,\n",
       "       hidden_layer_sizes=(40,), learning_rate='adaptive',\n",
       "       learning_rate_init=0.2, max_iter=500, momentum=0.9,\n",
       "       nesterovs_momentum=True, power_t=0.5, random_state=56, shuffle=True,\n",
       "       solver='adam', tol=0.0001, validation_fraction=0.1, verbose=False,\n",
       "       warm_start=False),\n",
       "       fit_params={}, iid=True, n_jobs=-1,\n",
       "       param_grid={'alpha': array([  1.00000e-05,   4.64159e-05,   2.15443e-04,   1.00000e-03,\n",
       "         4.64159e-03,   2.15443e-02,   1.00000e-01,   4.64159e-01,\n",
       "         2.15443e+00,   1.00000e+01]), 'solver': ['adam', 'sgd']},\n",
       "       pre_dispatch='2*n_jobs', refit=True, return_train_score=True,\n",
       "       scoring='precision', verbose=0)"
      ]
     },
     "execution_count": 136,
     "metadata": {},
     "output_type": "execute_result"
    }
   ],
   "source": [
    "mlp_grid.fit(X_train, y_train)"
   ]
  },
  {
   "cell_type": "code",
   "execution_count": 137,
   "metadata": {},
   "outputs": [
    {
     "name": "stdout",
     "output_type": "stream",
     "text": [
      "MLPClassifier(activation='logistic', alpha=1.0000000000000001e-05,\n",
      "       batch_size='auto', beta_1=0.9, beta_2=0.999, early_stopping=False,\n",
      "       epsilon=1e-08, hidden_layer_sizes=(40,), learning_rate='adaptive',\n",
      "       learning_rate_init=0.2, max_iter=500, momentum=0.9,\n",
      "       nesterovs_momentum=True, power_t=0.5, random_state=56, shuffle=True,\n",
      "       solver='adam', tol=0.0001, validation_fraction=0.1, verbose=False,\n",
      "       warm_start=False)\n",
      "0.859799610755\n",
      "{'alpha': 1.0000000000000001e-05, 'solver': 'adam'}\n"
     ]
    }
   ],
   "source": [
    "print mlp_grid.best_estimator_\n",
    "print mlp_grid.score(X_test, y_test)\n",
    "print mlp_grid.best_params_"
   ]
  },
  {
   "cell_type": "code",
   "execution_count": 138,
   "metadata": {
    "collapsed": true
   },
   "outputs": [],
   "source": [
    "mlp_best_estimator = mlp_grid.best_estimator_\n"
   ]
  },
  {
   "cell_type": "code",
   "execution_count": 38,
   "metadata": {},
   "outputs": [
    {
     "data": {
      "image/png": "[encoded data removed]",
      "text/plain": [
       "<matplotlib.figure.Figure at 0x7f2412416a10>"
      ]
     },
     "metadata": {
      "image/png": {
       "height": 562,
       "width": 602
      }
     },
     "output_type": "display_data"
    }
   ],
   "source": [
    "plot_confusion_matrix(confusion_matrix(y_test, mlp_best_estimator.predict(X_test)), np.array([0,1]))"
   ]
  },
  {
   "cell_type": "code",
   "execution_count": 140,
   "metadata": {},
   "outputs": [
    {
     "name": "stdout",
     "output_type": "stream",
     "text": [
      "Stored 'mlp_best_estimator' (MLPClassifier)\n",
      "Stored 'mlp_results' (DataFrame)\n"
     ]
    }
   ],
   "source": [
    "%store mlp_best_estimator\n",
    "%store mlp_results"
   ]
  },
  {
   "cell_type": "code",
   "execution_count": 29,
   "metadata": {
    "collapsed": true
   },
   "outputs": [],
   "source": [
    "%store -r mlp_"
   ]
  },
  {
   "cell_type": "code",
   "execution_count": 33,
   "metadata": {},
   "outputs": [
    {
     "ename": "NameError",
     "evalue": "name 'mlp_grid' is not defined",
     "output_type": "error",
     "traceback": [
      "\u001b[0;31m---------------------------------------------------------------------------\u001b[0m",
      "\u001b[0;31mNameError\u001b[0m                                 Traceback (most recent call last)",
      "\u001b[0;32m<ipython-input-33-d9397566545a>\u001b[0m in \u001b[0;36m<module>\u001b[0;34m()\u001b[0m\n\u001b[0;32m----> 1\u001b[0;31m \u001b[0mmlp_grid\u001b[0m\u001b[0;34m\u001b[0m\u001b[0m\n\u001b[0m",
      "\u001b[0;31mNameError\u001b[0m: name 'mlp_grid' is not defined"
     ]
    }
   ],
   "source": [
    "mlp_grid"
   ]
  },
  {
   "cell_type": "code",
   "execution_count": 30,
   "metadata": {
    "collapsed": true
   },
   "outputs": [],
   "source": [
    "mlp_results.sort_values(by = 'param_alpha', inplace = True, ascending = False)"
   ]
  },
  {
   "cell_type": "code",
   "execution_count": 31,
   "metadata": {},
   "outputs": [
    {
     "data": {
      "image/png": "[encoded data removed]",
      "text/plain": [
       "<matplotlib.figure.Figure at 0x7f23cba93a90>"
      ]
     },
     "metadata": {
      "image/png": {
       "height": 384,
       "width": 539
      }
     },
     "output_type": "display_data"
    }
   ],
   "source": [
    "mlp_results[mlp_results.param_solver == 'adam'].plot(x = 'param_alpha', y = 'mean_test_score', logx = True);"
   ]
  },
  {
   "cell_type": "code",
   "execution_count": null,
   "metadata": {
    "collapsed": true
   },
   "outputs": [],
   "source": [
    "mlp_score = cross_val_score(mlp_best, X_test, y_test, cv = 10, scoring = 'recall', n_jobs = -1).mean()\n",
    "mlp_score"
   ]
  },
  {
   "cell_type": "code",
   "execution_count": 35,
   "metadata": {
    "collapsed": true
   },
   "outputs": [],
   "source": [
    "%store -r mlp_best_estimator"
   ]
  },
  {
   "cell_type": "code",
   "execution_count": null,
   "metadata": {
    "collapsed": true
   },
   "outputs": [],
   "source": [
    "mlp_best_estimator"
   ]
  },
  {
   "cell_type": "markdown",
   "metadata": {},
   "source": [
    "## Performance Summary\n",
    "[Table of Contents](#Table-of-Contents:)"
   ]
  },
  {
   "cell_type": "markdown",
   "metadata": {},
   "source": [
    "### Recall Score Table\n",
    "[Table of Contents](#Table-of-Contents:)"
   ]
  },
  {
   "cell_type": "code",
   "execution_count": null,
   "metadata": {
    "collapsed": true
   },
   "outputs": [],
   "source": []
  },
  {
   "cell_type": "code",
   "execution_count": null,
   "metadata": {
    "collapsed": true
   },
   "outputs": [],
   "source": []
  },
  {
   "cell_type": "markdown",
   "metadata": {},
   "source": [
    "### Feature Coefficients Comparison\n",
    "[Table of Contents](#Table-of-Contents:)"
   ]
  },
  {
   "cell_type": "code",
   "execution_count": null,
   "metadata": {
    "collapsed": true
   },
   "outputs": [],
   "source": [
    "Recall performance\n",
    "Feature Coefficients\n",
    "Confusion Matrices\n",
    "ROC Curves"
   ]
  },
  {
   "cell_type": "markdown",
   "metadata": {},
   "source": [
    "### Confusion Matrices\n",
    "[Table of Contents](#Table-of-Contents:)"
   ]
  },
  {
   "cell_type": "code",
   "execution_count": null,
   "metadata": {
    "collapsed": true
   },
   "outputs": [],
   "source": []
  },
  {
   "cell_type": "code",
   "execution_count": null,
   "metadata": {
    "collapsed": true
   },
   "outputs": [],
   "source": []
  },
  {
   "cell_type": "markdown",
   "metadata": {},
   "source": [
    "### ROC Curves\n",
    "[Table of Contents](#Table-of-Contents:)"
   ]
  },
  {
   "cell_type": "code",
   "execution_count": null,
   "metadata": {
    "collapsed": true
   },
   "outputs": [],
   "source": []
  },
  {
   "cell_type": "markdown",
   "metadata": {},
   "source": [
    "---\n",
    "# V - Next Steps: Predicting Thresholds of Casualties\n",
    "[Table of Contents](#Table-of-Contents:)\n"
   ]
  },
  {
   "cell_type": "markdown",
   "metadata": {},
   "source": [
    "## Model Evaluation\n",
    "[Table of Contents](#Table-of-Contents:)"
   ]
  },
  {
   "cell_type": "code",
   "execution_count": null,
   "metadata": {
    "collapsed": true
   },
   "outputs": [],
   "source": [
    "df_casualties = df[df.casualties != 0]\n",
    "\n",
    "y = df_casualties.casualties.apply(lambda x: 0 if x <= 10 else 1).values\n",
    "\n",
    "X = patsy.dmatrix(formula, data = df_casualties, return_type= 'dataframe')"
   ]
  },
  {
   "cell_type": "code",
   "execution_count": null,
   "metadata": {
    "collapsed": true
   },
   "outputs": [],
   "source": [
    "X_train, X_test, y_train, y_test = train_test_split(X, y, test_size = .2, random_state = 102)\n",
    "\n",
    "print X_train.shape, y_train.shape, X_test.shape, y_test.shape"
   ]
  },
  {
   "cell_type": "code",
   "execution_count": null,
   "metadata": {
    "collapsed": true
   },
   "outputs": [],
   "source": [
    "score_table = pd.DataFrame(columns = ['model', 'cv_10'])\n",
    "\n",
    "\n",
    "for model, n in zip(vanilla_models, np.arange(len(vanilla_models))):\n",
    "                    \n",
    "    clf = Pipeline([\n",
    "          ('classification', vanilla_models[model]),\n",
    "        ])\n",
    "    \n",
    "    clf.fit(X_train, y_train)\n",
    "    \n",
    "    cv_10 = cross_val_score(clf, X_test, y_test, cv = 10, scoring = 'f1', n_jobs= -1).mean()\n",
    "    \n",
    "    score_table.loc[n,'model'] = model\n",
    "    score_table.loc[n,'cv_10'] = cv_10"
   ]
  },
  {
   "cell_type": "code",
   "execution_count": null,
   "metadata": {
    "collapsed": true
   },
   "outputs": [],
   "source": [
    "score_table.sort_values(by = 'cv_10', ascending = False)"
   ]
  },
  {
   "cell_type": "markdown",
   "metadata": {},
   "source": [
    "## Model Tuning\n",
    "[Table of Contents](#Table-of-Contents:)"
   ]
  },
  {
   "cell_type": "markdown",
   "metadata": {},
   "source": [
    "## Results Summary\n",
    "[Table of Contents](#Table-of-Contents:)"
   ]
  },
  {
   "cell_type": "markdown",
   "metadata": {},
   "source": [
    "---\n",
    "# VI - Executive Summary\n",
    "[Table of Contents](#Table-of-Contents:)"
   ]
  },
  {
   "cell_type": "code",
   "execution_count": null,
   "metadata": {
    "collapsed": true
   },
   "outputs": [],
   "source": []
  },
  {
   "cell_type": "code",
   "execution_count": null,
   "metadata": {
    "collapsed": true
   },
   "outputs": [],
   "source": []
  },
  {
   "cell_type": "code",
   "execution_count": null,
   "metadata": {
    "collapsed": true
   },
   "outputs": [],
   "source": []
  },
  {
   "cell_type": "code",
   "execution_count": null,
   "metadata": {
    "collapsed": true
   },
   "outputs": [],
   "source": []
  },
  {
   "cell_type": "markdown",
   "metadata": {},
   "source": [
    "# VII - Appendix\n",
    "[Table of Contents](#Table-of-Contents:)"
   ]
  },
  {
   "cell_type": "markdown",
   "metadata": {},
   "source": [
    "### Plot Confusion Matrix\n",
    "[Table of Contents](#Table-of-Contents:)"
   ]
  },
  {
   "cell_type": "code",
   "execution_count": 9,
   "metadata": {
    "collapsed": true
   },
   "outputs": [],
   "source": [
    "def plot_confusion_matrix(cm, classes, title='Confusion matrix', cmap='viridis'):\n",
    "    '''\n",
    "    This function simply gives a nice loooking layout to the confusion matrix.\n",
    "    '''\n",
    "    plt.figure(figsize = (7,7))\n",
    "    plt.imshow(cm, interpolation='nearest', cmap=cmap)\n",
    "    plt.title(title)\n",
    "    plt.colorbar()\n",
    "    tick_marks = np.arange(len(classes))\n",
    "    plt.xticks(tick_marks, classes, rotation=45)\n",
    "    plt.yticks(tick_marks, classes)\n",
    "    thresh = cm.max() / 2.\n",
    "    for i, j in itertools.product(range(cm.shape[0]), range(cm.shape[1])):\n",
    "        plt.text(j, i, cm[i, j],\n",
    "                 horizontalalignment=\"center\",\n",
    "                 color=\"black\" if cm[i, j] > thresh else \"white\")\n",
    "    plt.ylabel('True label')\n",
    "    plt.xlabel('Predicted label')\n",
    "    plt.show()"
   ]
  },
  {
   "cell_type": "markdown",
   "metadata": {},
   "source": [
    "### Plot Cummulative Sum Variance\n",
    "[Table of Contents](#Table-of-Contents:)"
   ]
  },
  {
   "cell_type": "code",
   "execution_count": null,
   "metadata": {
    "collapsed": true
   },
   "outputs": [],
   "source": [
    "def plot_cumsum_variance(var_ratio):\n",
    "    '''\n",
    "    This function plots cummulative explained variance, ranking features by PCA importance.\n",
    "    '''\n",
    "    fig = plt.figure(figsize=(15,5))#init figure \n",
    "    ax = fig.gca()\n",
    "    \n",
    "    x_vals = range(1,len(var_ratio)+1)#set x&y values\n",
    "    y_vals = var_ratio\n",
    "    \n",
    "    ax.set_title('Explained Variance over Principal Components')#set title and labels \n",
    "    ax.set_ylabel('Cumulative Sum of Variance Explained')\n",
    "    ax.set_xlabel('Number of Principal Components')\n",
    "    \n",
    "    ax.plot(x_vals, y_vals)"
   ]
  },
  {
   "cell_type": "markdown",
   "metadata": {},
   "source": [
    "### Plot ROC Curve\n",
    "[Table of Contents](#Table-of-Contents:)"
   ]
  },
  {
   "cell_type": "code",
   "execution_count": null,
   "metadata": {
    "collapsed": true
   },
   "outputs": [],
   "source": []
  },
  {
   "cell_type": "code",
   "execution_count": null,
   "metadata": {
    "collapsed": true
   },
   "outputs": [],
   "source": []
  },
  {
   "cell_type": "code",
   "execution_count": 3,
   "metadata": {
    "collapsed": true
   },
   "outputs": [],
   "source": [
    "# The end!"
   ]
  }
 ],
 "metadata": {
  "anaconda-cloud": {},
  "kernelspec": {
   "display_name": "Python 2",
   "language": "python",
   "name": "python2"
  },
  "language_info": {
   "codemirror_mode": {
    "name": "ipython",
    "version": 2
   },
   "file_extension": ".py",
   "mimetype": "text/x-python",
   "name": "python",
   "nbconvert_exporter": "python",
   "pygments_lexer": "ipython2",
   "version": "2.7.13"
  }
 },
 "nbformat": 4,
 "nbformat_minor": 2
}
